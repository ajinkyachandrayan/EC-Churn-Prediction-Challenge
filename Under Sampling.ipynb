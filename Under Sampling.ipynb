{
 "cells": [
  {
   "cell_type": "code",
   "execution_count": 1,
   "metadata": {
    "collapsed": true
   },
   "outputs": [],
   "source": [
    "import pandas as pd\n",
    "import numpy as np\n",
    "pd.set_option(\"display.max_columns\",350)\n",
    "### working with date : \n",
    "from datetime import datetime\n",
    "from dateutil.relativedelta import relativedelta\n",
    "import csv\n",
    "from sklearn.preprocessing import LabelEncoder"
   ]
  },
  {
   "cell_type": "code",
   "execution_count": 2,
   "metadata": {
    "collapsed": true
   },
   "outputs": [],
   "source": [
    "# Import Train & Test"
   ]
  },
  {
   "cell_type": "code",
   "execution_count": 3,
   "metadata": {
    "collapsed": true
   },
   "outputs": [],
   "source": [
    "df_train = pd.read_csv('train_preprocess_v1.csv',sep=',')"
   ]
  },
  {
   "cell_type": "code",
   "execution_count": 4,
   "metadata": {
    "collapsed": false
   },
   "outputs": [
    {
     "data": {
      "text/plain": [
       "(356669, 25)"
      ]
     },
     "execution_count": 4,
     "metadata": {},
     "output_type": "execute_result"
    }
   ],
   "source": [
    "df_train.shape"
   ]
  },
  {
   "cell_type": "code",
   "execution_count": 5,
   "metadata": {
    "collapsed": true
   },
   "outputs": [],
   "source": [
    "df_test = pd.read_csv('test_preprocess_v1.csv',sep=',')"
   ]
  },
  {
   "cell_type": "code",
   "execution_count": 6,
   "metadata": {
    "collapsed": false
   },
   "outputs": [
    {
     "data": {
      "text/plain": [
       "(79771, 24)"
      ]
     },
     "execution_count": 6,
     "metadata": {},
     "output_type": "execute_result"
    }
   ],
   "source": [
    "df_test.shape"
   ]
  },
  {
   "cell_type": "code",
   "execution_count": 7,
   "metadata": {
    "collapsed": false
   },
   "outputs": [
    {
     "data": {
      "text/html": [
       "<div>\n",
       "<style scoped>\n",
       "    .dataframe tbody tr th:only-of-type {\n",
       "        vertical-align: middle;\n",
       "    }\n",
       "\n",
       "    .dataframe tbody tr th {\n",
       "        vertical-align: top;\n",
       "    }\n",
       "\n",
       "    .dataframe thead th {\n",
       "        text-align: right;\n",
       "    }\n",
       "</style>\n",
       "<table border=\"1\" class=\"dataframe\">\n",
       "  <thead>\n",
       "    <tr style=\"text-align: right;\">\n",
       "      <th></th>\n",
       "      <th>activite_nce</th>\n",
       "      <th>anciennete_client</th>\n",
       "      <th>canal_de_vente</th>\n",
       "      <th>cible</th>\n",
       "      <th>couleur_tarif_elec</th>\n",
       "      <th>duree</th>\n",
       "      <th>echeance_mois</th>\n",
       "      <th>entite_societe_contractante</th>\n",
       "      <th>libelle_naf</th>\n",
       "      <th>marche_de_la_sc</th>\n",
       "      <th>nb_dem_12</th>\n",
       "      <th>nb_dem_reco_12</th>\n",
       "      <th>nb_recla_12</th>\n",
       "      <th>nb_recla_reco_12</th>\n",
       "      <th>orientation_economique</th>\n",
       "      <th>prix_elec_m3</th>\n",
       "      <th>prix_gaz_m3</th>\n",
       "      <th>produit</th>\n",
       "      <th>profil_prm</th>\n",
       "      <th>segment_societe_contractante</th>\n",
       "      <th>type_client</th>\n",
       "      <th>type_d_offre</th>\n",
       "      <th>type_de_prix</th>\n",
       "      <th>volume_annuel</th>\n",
       "      <th>zone</th>\n",
       "    </tr>\n",
       "  </thead>\n",
       "  <tbody>\n",
       "    <tr>\n",
       "      <th>0</th>\n",
       "      <td>35</td>\n",
       "      <td>13.964384</td>\n",
       "      <td>0</td>\n",
       "      <td>1.0</td>\n",
       "      <td>1</td>\n",
       "      <td>12</td>\n",
       "      <td>3</td>\n",
       "      <td>2</td>\n",
       "      <td>46</td>\n",
       "      <td>1</td>\n",
       "      <td>0</td>\n",
       "      <td>0</td>\n",
       "      <td>0</td>\n",
       "      <td>0</td>\n",
       "      <td>3</td>\n",
       "      <td>34.367000</td>\n",
       "      <td>16.415322</td>\n",
       "      <td>0</td>\n",
       "      <td>2</td>\n",
       "      <td>2</td>\n",
       "      <td>1</td>\n",
       "      <td>0</td>\n",
       "      <td>2</td>\n",
       "      <td>0.11860</td>\n",
       "      <td>0</td>\n",
       "    </tr>\n",
       "    <tr>\n",
       "      <th>1</th>\n",
       "      <td>35</td>\n",
       "      <td>13.964384</td>\n",
       "      <td>0</td>\n",
       "      <td>1.0</td>\n",
       "      <td>1</td>\n",
       "      <td>12</td>\n",
       "      <td>3</td>\n",
       "      <td>2</td>\n",
       "      <td>46</td>\n",
       "      <td>1</td>\n",
       "      <td>0</td>\n",
       "      <td>0</td>\n",
       "      <td>0</td>\n",
       "      <td>0</td>\n",
       "      <td>3</td>\n",
       "      <td>43.686875</td>\n",
       "      <td>27.547958</td>\n",
       "      <td>0</td>\n",
       "      <td>2</td>\n",
       "      <td>2</td>\n",
       "      <td>1</td>\n",
       "      <td>0</td>\n",
       "      <td>2</td>\n",
       "      <td>0.11860</td>\n",
       "      <td>0</td>\n",
       "    </tr>\n",
       "    <tr>\n",
       "      <th>2</th>\n",
       "      <td>35</td>\n",
       "      <td>13.964384</td>\n",
       "      <td>0</td>\n",
       "      <td>1.0</td>\n",
       "      <td>1</td>\n",
       "      <td>12</td>\n",
       "      <td>3</td>\n",
       "      <td>2</td>\n",
       "      <td>46</td>\n",
       "      <td>1</td>\n",
       "      <td>0</td>\n",
       "      <td>0</td>\n",
       "      <td>0</td>\n",
       "      <td>0</td>\n",
       "      <td>3</td>\n",
       "      <td>39.119300</td>\n",
       "      <td>21.192400</td>\n",
       "      <td>0</td>\n",
       "      <td>2</td>\n",
       "      <td>2</td>\n",
       "      <td>1</td>\n",
       "      <td>0</td>\n",
       "      <td>2</td>\n",
       "      <td>0.11860</td>\n",
       "      <td>0</td>\n",
       "    </tr>\n",
       "    <tr>\n",
       "      <th>3</th>\n",
       "      <td>35</td>\n",
       "      <td>13.964384</td>\n",
       "      <td>0</td>\n",
       "      <td>1.0</td>\n",
       "      <td>1</td>\n",
       "      <td>12</td>\n",
       "      <td>3</td>\n",
       "      <td>2</td>\n",
       "      <td>46</td>\n",
       "      <td>1</td>\n",
       "      <td>0</td>\n",
       "      <td>0</td>\n",
       "      <td>0</td>\n",
       "      <td>0</td>\n",
       "      <td>3</td>\n",
       "      <td>40.846316</td>\n",
       "      <td>22.850872</td>\n",
       "      <td>0</td>\n",
       "      <td>2</td>\n",
       "      <td>2</td>\n",
       "      <td>1</td>\n",
       "      <td>0</td>\n",
       "      <td>2</td>\n",
       "      <td>0.11860</td>\n",
       "      <td>0</td>\n",
       "    </tr>\n",
       "    <tr>\n",
       "      <th>4</th>\n",
       "      <td>35</td>\n",
       "      <td>14.920548</td>\n",
       "      <td>0</td>\n",
       "      <td>1.0</td>\n",
       "      <td>0</td>\n",
       "      <td>12</td>\n",
       "      <td>9</td>\n",
       "      <td>2</td>\n",
       "      <td>228</td>\n",
       "      <td>2</td>\n",
       "      <td>0</td>\n",
       "      <td>0</td>\n",
       "      <td>0</td>\n",
       "      <td>0</td>\n",
       "      <td>1</td>\n",
       "      <td>41.823333</td>\n",
       "      <td>24.530851</td>\n",
       "      <td>1</td>\n",
       "      <td>13</td>\n",
       "      <td>3</td>\n",
       "      <td>2</td>\n",
       "      <td>1</td>\n",
       "      <td>14</td>\n",
       "      <td>5.50545</td>\n",
       "      <td>2</td>\n",
       "    </tr>\n",
       "  </tbody>\n",
       "</table>\n",
       "</div>"
      ],
      "text/plain": [
       "   activite_nce  anciennete_client  canal_de_vente  cible  couleur_tarif_elec  \\\n",
       "0            35          13.964384               0    1.0                   1   \n",
       "1            35          13.964384               0    1.0                   1   \n",
       "2            35          13.964384               0    1.0                   1   \n",
       "3            35          13.964384               0    1.0                   1   \n",
       "4            35          14.920548               0    1.0                   0   \n",
       "\n",
       "   duree  echeance_mois  entite_societe_contractante  libelle_naf  \\\n",
       "0     12              3                            2           46   \n",
       "1     12              3                            2           46   \n",
       "2     12              3                            2           46   \n",
       "3     12              3                            2           46   \n",
       "4     12              9                            2          228   \n",
       "\n",
       "   marche_de_la_sc  nb_dem_12  nb_dem_reco_12  nb_recla_12  nb_recla_reco_12  \\\n",
       "0                1          0               0            0                 0   \n",
       "1                1          0               0            0                 0   \n",
       "2                1          0               0            0                 0   \n",
       "3                1          0               0            0                 0   \n",
       "4                2          0               0            0                 0   \n",
       "\n",
       "   orientation_economique  prix_elec_m3  prix_gaz_m3  produit  profil_prm  \\\n",
       "0                       3     34.367000    16.415322        0           2   \n",
       "1                       3     43.686875    27.547958        0           2   \n",
       "2                       3     39.119300    21.192400        0           2   \n",
       "3                       3     40.846316    22.850872        0           2   \n",
       "4                       1     41.823333    24.530851        1          13   \n",
       "\n",
       "   segment_societe_contractante  type_client  type_d_offre  type_de_prix  \\\n",
       "0                             2            1             0             2   \n",
       "1                             2            1             0             2   \n",
       "2                             2            1             0             2   \n",
       "3                             2            1             0             2   \n",
       "4                             3            2             1            14   \n",
       "\n",
       "   volume_annuel  zone  \n",
       "0        0.11860     0  \n",
       "1        0.11860     0  \n",
       "2        0.11860     0  \n",
       "3        0.11860     0  \n",
       "4        5.50545     2  "
      ]
     },
     "execution_count": 7,
     "metadata": {},
     "output_type": "execute_result"
    }
   ],
   "source": [
    "df_train.head()"
   ]
  },
  {
   "cell_type": "code",
   "execution_count": 8,
   "metadata": {
    "collapsed": false
   },
   "outputs": [
    {
     "data": {
      "text/html": [
       "<div>\n",
       "<style scoped>\n",
       "    .dataframe tbody tr th:only-of-type {\n",
       "        vertical-align: middle;\n",
       "    }\n",
       "\n",
       "    .dataframe tbody tr th {\n",
       "        vertical-align: top;\n",
       "    }\n",
       "\n",
       "    .dataframe thead th {\n",
       "        text-align: right;\n",
       "    }\n",
       "</style>\n",
       "<table border=\"1\" class=\"dataframe\">\n",
       "  <thead>\n",
       "    <tr style=\"text-align: right;\">\n",
       "      <th></th>\n",
       "      <th>activite_nce</th>\n",
       "      <th>anciennete_client</th>\n",
       "      <th>canal_de_vente</th>\n",
       "      <th>couleur_tarif_elec</th>\n",
       "      <th>duree</th>\n",
       "      <th>echeance_mois</th>\n",
       "      <th>entite_societe_contractante</th>\n",
       "      <th>libelle_naf</th>\n",
       "      <th>marche_de_la_sc</th>\n",
       "      <th>nb_dem_12</th>\n",
       "      <th>nb_dem_reco_12</th>\n",
       "      <th>nb_recla_12</th>\n",
       "      <th>nb_recla_reco_12</th>\n",
       "      <th>orientation_economique</th>\n",
       "      <th>prix_elec_m3</th>\n",
       "      <th>prix_gaz_m3</th>\n",
       "      <th>produit</th>\n",
       "      <th>profil_prm</th>\n",
       "      <th>segment_societe_contractante</th>\n",
       "      <th>type_client</th>\n",
       "      <th>type_d_offre</th>\n",
       "      <th>type_de_prix</th>\n",
       "      <th>volume_annuel</th>\n",
       "      <th>zone</th>\n",
       "    </tr>\n",
       "  </thead>\n",
       "  <tbody>\n",
       "    <tr>\n",
       "      <th>0</th>\n",
       "      <td>35</td>\n",
       "      <td>13.964384</td>\n",
       "      <td>0</td>\n",
       "      <td>1</td>\n",
       "      <td>12</td>\n",
       "      <td>3</td>\n",
       "      <td>2</td>\n",
       "      <td>46</td>\n",
       "      <td>1</td>\n",
       "      <td>0</td>\n",
       "      <td>0</td>\n",
       "      <td>0</td>\n",
       "      <td>0</td>\n",
       "      <td>3</td>\n",
       "      <td>38.065238</td>\n",
       "      <td>17.313520</td>\n",
       "      <td>0</td>\n",
       "      <td>2</td>\n",
       "      <td>2</td>\n",
       "      <td>1</td>\n",
       "      <td>0</td>\n",
       "      <td>2</td>\n",
       "      <td>0.11860</td>\n",
       "      <td>0</td>\n",
       "    </tr>\n",
       "    <tr>\n",
       "      <th>1</th>\n",
       "      <td>3</td>\n",
       "      <td>13.509000</td>\n",
       "      <td>1</td>\n",
       "      <td>0</td>\n",
       "      <td>36</td>\n",
       "      <td>6</td>\n",
       "      <td>4</td>\n",
       "      <td>59</td>\n",
       "      <td>2</td>\n",
       "      <td>0</td>\n",
       "      <td>0</td>\n",
       "      <td>0</td>\n",
       "      <td>0</td>\n",
       "      <td>3</td>\n",
       "      <td>34.830435</td>\n",
       "      <td>16.783495</td>\n",
       "      <td>1</td>\n",
       "      <td>15</td>\n",
       "      <td>3</td>\n",
       "      <td>0</td>\n",
       "      <td>1</td>\n",
       "      <td>14</td>\n",
       "      <td>4.96180</td>\n",
       "      <td>3</td>\n",
       "    </tr>\n",
       "    <tr>\n",
       "      <th>2</th>\n",
       "      <td>3</td>\n",
       "      <td>13.509000</td>\n",
       "      <td>1</td>\n",
       "      <td>0</td>\n",
       "      <td>36</td>\n",
       "      <td>1</td>\n",
       "      <td>4</td>\n",
       "      <td>59</td>\n",
       "      <td>2</td>\n",
       "      <td>2</td>\n",
       "      <td>1</td>\n",
       "      <td>0</td>\n",
       "      <td>0</td>\n",
       "      <td>3</td>\n",
       "      <td>41.947143</td>\n",
       "      <td>16.615879</td>\n",
       "      <td>1</td>\n",
       "      <td>15</td>\n",
       "      <td>3</td>\n",
       "      <td>0</td>\n",
       "      <td>1</td>\n",
       "      <td>14</td>\n",
       "      <td>4.96180</td>\n",
       "      <td>3</td>\n",
       "    </tr>\n",
       "    <tr>\n",
       "      <th>3</th>\n",
       "      <td>3</td>\n",
       "      <td>13.509000</td>\n",
       "      <td>1</td>\n",
       "      <td>0</td>\n",
       "      <td>12</td>\n",
       "      <td>8</td>\n",
       "      <td>4</td>\n",
       "      <td>59</td>\n",
       "      <td>2</td>\n",
       "      <td>0</td>\n",
       "      <td>0</td>\n",
       "      <td>0</td>\n",
       "      <td>0</td>\n",
       "      <td>3</td>\n",
       "      <td>35.679091</td>\n",
       "      <td>16.614452</td>\n",
       "      <td>1</td>\n",
       "      <td>13</td>\n",
       "      <td>3</td>\n",
       "      <td>0</td>\n",
       "      <td>1</td>\n",
       "      <td>0</td>\n",
       "      <td>1.28400</td>\n",
       "      <td>2</td>\n",
       "    </tr>\n",
       "    <tr>\n",
       "      <th>4</th>\n",
       "      <td>13</td>\n",
       "      <td>13.830137</td>\n",
       "      <td>0</td>\n",
       "      <td>0</td>\n",
       "      <td>12</td>\n",
       "      <td>8</td>\n",
       "      <td>0</td>\n",
       "      <td>224</td>\n",
       "      <td>2</td>\n",
       "      <td>0</td>\n",
       "      <td>0</td>\n",
       "      <td>0</td>\n",
       "      <td>0</td>\n",
       "      <td>3</td>\n",
       "      <td>35.679091</td>\n",
       "      <td>16.614452</td>\n",
       "      <td>1</td>\n",
       "      <td>15</td>\n",
       "      <td>3</td>\n",
       "      <td>2</td>\n",
       "      <td>1</td>\n",
       "      <td>0</td>\n",
       "      <td>3.78125</td>\n",
       "      <td>1</td>\n",
       "    </tr>\n",
       "  </tbody>\n",
       "</table>\n",
       "</div>"
      ],
      "text/plain": [
       "   activite_nce  anciennete_client  canal_de_vente  couleur_tarif_elec  duree  \\\n",
       "0            35          13.964384               0                   1     12   \n",
       "1             3          13.509000               1                   0     36   \n",
       "2             3          13.509000               1                   0     36   \n",
       "3             3          13.509000               1                   0     12   \n",
       "4            13          13.830137               0                   0     12   \n",
       "\n",
       "   echeance_mois  entite_societe_contractante  libelle_naf  marche_de_la_sc  \\\n",
       "0              3                            2           46                1   \n",
       "1              6                            4           59                2   \n",
       "2              1                            4           59                2   \n",
       "3              8                            4           59                2   \n",
       "4              8                            0          224                2   \n",
       "\n",
       "   nb_dem_12  nb_dem_reco_12  nb_recla_12  nb_recla_reco_12  \\\n",
       "0          0               0            0                 0   \n",
       "1          0               0            0                 0   \n",
       "2          2               1            0                 0   \n",
       "3          0               0            0                 0   \n",
       "4          0               0            0                 0   \n",
       "\n",
       "   orientation_economique  prix_elec_m3  prix_gaz_m3  produit  profil_prm  \\\n",
       "0                       3     38.065238    17.313520        0           2   \n",
       "1                       3     34.830435    16.783495        1          15   \n",
       "2                       3     41.947143    16.615879        1          15   \n",
       "3                       3     35.679091    16.614452        1          13   \n",
       "4                       3     35.679091    16.614452        1          15   \n",
       "\n",
       "   segment_societe_contractante  type_client  type_d_offre  type_de_prix  \\\n",
       "0                             2            1             0             2   \n",
       "1                             3            0             1            14   \n",
       "2                             3            0             1            14   \n",
       "3                             3            0             1             0   \n",
       "4                             3            2             1             0   \n",
       "\n",
       "   volume_annuel  zone  \n",
       "0        0.11860     0  \n",
       "1        4.96180     3  \n",
       "2        4.96180     3  \n",
       "3        1.28400     2  \n",
       "4        3.78125     1  "
      ]
     },
     "execution_count": 8,
     "metadata": {},
     "output_type": "execute_result"
    }
   ],
   "source": [
    "df_test.head()"
   ]
  },
  {
   "cell_type": "code",
   "execution_count": 9,
   "metadata": {
    "collapsed": true
   },
   "outputs": [],
   "source": [
    "##  Perform Under Sampling"
   ]
  },
  {
   "cell_type": "code",
   "execution_count": 11,
   "metadata": {
    "collapsed": false
   },
   "outputs": [],
   "source": [
    "X = df_train.loc[:, df_train.columns != 'cible']\n",
    "y = df_train.loc[:, df_train.columns == 'cible']"
   ]
  },
  {
   "cell_type": "code",
   "execution_count": 12,
   "metadata": {
    "collapsed": true
   },
   "outputs": [],
   "source": [
    "# Number of data points in the minority class\n",
    "\n",
    "number_records_churn = len(df_train[df_train.cible == 0])\n",
    "\n",
    "churn_indices = np.array(df_train[df_train.cible == 0].index)"
   ]
  },
  {
   "cell_type": "code",
   "execution_count": 13,
   "metadata": {
    "collapsed": true
   },
   "outputs": [],
   "source": [
    "# Picking the indices of the normal classes\n",
    "normal_indices = df_train[df_train.cible == 1].index"
   ]
  },
  {
   "cell_type": "code",
   "execution_count": 14,
   "metadata": {
    "collapsed": true
   },
   "outputs": [],
   "source": [
    "# Out of the indices we picked, randomly select \"x\" number (number_records_churn)\n",
    "random_normal_indices = np.random.choice(normal_indices, number_records_churn, replace = False)\n",
    "random_normal_indices = np.array(random_normal_indices)"
   ]
  },
  {
   "cell_type": "code",
   "execution_count": 15,
   "metadata": {
    "collapsed": true
   },
   "outputs": [],
   "source": [
    "# Appending the 2 indices\n",
    "under_sample_indices = np.concatenate([churn_indices,random_normal_indices])"
   ]
  },
  {
   "cell_type": "code",
   "execution_count": 16,
   "metadata": {
    "collapsed": true
   },
   "outputs": [],
   "source": [
    "# Under sample dataset\n",
    "under_sample_data = df_train.iloc[under_sample_indices,:]"
   ]
  },
  {
   "cell_type": "code",
   "execution_count": 17,
   "metadata": {
    "collapsed": true
   },
   "outputs": [],
   "source": [
    "X_undersample = under_sample_data.loc[:, under_sample_data.columns != 'cible']\n",
    "y_undersample = under_sample_data.loc[:, under_sample_data.columns == 'cible']"
   ]
  },
  {
   "cell_type": "code",
   "execution_count": 18,
   "metadata": {
    "collapsed": false
   },
   "outputs": [
    {
     "name": "stdout",
     "output_type": "stream",
     "text": [
      "Percentage of non churn:  0.5\n",
      "Percentage of churn:  0.5\n",
      "Total number of records in resampled data:  20836\n"
     ]
    }
   ],
   "source": [
    "# Showing ratio\n",
    "print(\"Percentage of non churn: \", len(under_sample_data[under_sample_data.cible == 1])/len(under_sample_data))\n",
    "print(\"Percentage of churn: \", len(under_sample_data[under_sample_data.cible == 0])/len(under_sample_data))\n",
    "print(\"Total number of records in resampled data: \", len(under_sample_data))"
   ]
  },
  {
   "cell_type": "code",
   "execution_count": 19,
   "metadata": {
    "collapsed": false
   },
   "outputs": [
    {
     "data": {
      "text/plain": [
       "(20836, 25)"
      ]
     },
     "execution_count": 19,
     "metadata": {},
     "output_type": "execute_result"
    }
   ],
   "source": [
    "under_sample_data.shape"
   ]
  },
  {
   "cell_type": "code",
   "execution_count": 20,
   "metadata": {
    "collapsed": true
   },
   "outputs": [],
   "source": [
    "under_sample_data.to_csv(\"undersample/train_undersample.csv\", index = False)"
   ]
  },
  {
   "cell_type": "code",
   "execution_count": null,
   "metadata": {
    "collapsed": true
   },
   "outputs": [],
   "source": []
  }
 ],
 "metadata": {
  "anaconda-cloud": {},
  "kernelspec": {
   "display_name": "Python [conda root]",
   "language": "python",
   "name": "conda-root-py"
  },
  "language_info": {
   "codemirror_mode": {
    "name": "ipython",
    "version": 3
   },
   "file_extension": ".py",
   "mimetype": "text/x-python",
   "name": "python",
   "nbconvert_exporter": "python",
   "pygments_lexer": "ipython3",
   "version": "3.5.2"
  }
 },
 "nbformat": 4,
 "nbformat_minor": 1
}
