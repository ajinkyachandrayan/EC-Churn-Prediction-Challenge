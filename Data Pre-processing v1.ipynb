{
 "cells": [
  {
   "cell_type": "code",
   "execution_count": 1,
   "metadata": {
    "collapsed": true
   },
   "outputs": [],
   "source": [
    "import pandas as pd\n",
    "import numpy as np\n",
    "pd.set_option(\"display.max_columns\",350)\n",
    "from datetime import datetime\n",
    "from dateutil.relativedelta import relativedelta\n",
    "import csv\n",
    "from sklearn.preprocessing import LabelEncoder"
   ]
  },
  {
   "cell_type": "code",
   "execution_count": 2,
   "metadata": {
    "collapsed": true
   },
   "outputs": [],
   "source": [
    "# Import Train & Test"
   ]
  },
  {
   "cell_type": "code",
   "execution_count": 3,
   "metadata": {
    "collapsed": true
   },
   "outputs": [],
   "source": [
    "df_train = pd.read_csv('train.csv',sep=',')"
   ]
  },
  {
   "cell_type": "code",
   "execution_count": 4,
   "metadata": {
    "collapsed": true
   },
   "outputs": [],
   "source": [
    "df_test = pd.read_csv('test.csv',sep=',')"
   ]
  },
  {
   "cell_type": "code",
   "execution_count": 5,
   "metadata": {
    "collapsed": false
   },
   "outputs": [
    {
     "data": {
      "text/plain": [
       "(356669, 36)"
      ]
     },
     "execution_count": 5,
     "metadata": {},
     "output_type": "execute_result"
    }
   ],
   "source": [
    "df_train.shape"
   ]
  },
  {
   "cell_type": "code",
   "execution_count": 6,
   "metadata": {
    "collapsed": false
   },
   "outputs": [
    {
     "data": {
      "text/plain": [
       "(79771, 35)"
      ]
     },
     "execution_count": 6,
     "metadata": {},
     "output_type": "execute_result"
    }
   ],
   "source": [
    "df_test.shape"
   ]
  },
  {
   "cell_type": "code",
   "execution_count": 7,
   "metadata": {
    "collapsed": false
   },
   "outputs": [
    {
     "data": {
      "text/html": [
       "<div>\n",
       "<table border=\"1\" class=\"dataframe\">\n",
       "  <thead>\n",
       "    <tr style=\"text-align: right;\">\n",
       "      <th></th>\n",
       "      <th>echeance_annee</th>\n",
       "      <th>echeance_mois</th>\n",
       "      <th>produit</th>\n",
       "      <th>duree</th>\n",
       "      <th>type_d_offre</th>\n",
       "      <th>type_de_prix</th>\n",
       "      <th>canal_de_vente</th>\n",
       "      <th>zone</th>\n",
       "      <th>marche_de_la_sc</th>\n",
       "      <th>segment_societe_contractante</th>\n",
       "      <th>entite_societe_contractante</th>\n",
       "      <th>profil_prm</th>\n",
       "      <th>couleur_tarif_elec</th>\n",
       "      <th>volume_annuel</th>\n",
       "      <th>prix_gaz_m3</th>\n",
       "      <th>prix_elec_m3</th>\n",
       "      <th>nb_dem_12</th>\n",
       "      <th>nb_recla_12</th>\n",
       "      <th>nb_dem_reco_12</th>\n",
       "      <th>nb_recla_reco_12</th>\n",
       "      <th>type_client</th>\n",
       "      <th>libelle_naf</th>\n",
       "      <th>activite_nce</th>\n",
       "      <th>anciennete_client</th>\n",
       "      <th>orientation_economique</th>\n",
       "      <th>population</th>\n",
       "      <th>evolution_pop_percent</th>\n",
       "      <th>nb_proprietaire</th>\n",
       "      <th>nb_logement</th>\n",
       "      <th>dep_moyenne_salaires_horaires</th>\n",
       "      <th>urbanite_ruralite</th>\n",
       "      <th>nb_atifs</th>\n",
       "      <th>dynamique_demographique_bv</th>\n",
       "      <th>environnement_demographique</th>\n",
       "      <th>seg_dyn_entre</th>\n",
       "    </tr>\n",
       "  </thead>\n",
       "  <tbody>\n",
       "    <tr>\n",
       "      <th>0</th>\n",
       "      <td>2017</td>\n",
       "      <td>3</td>\n",
       "      <td>Elec</td>\n",
       "      <td>12</td>\n",
       "      <td>Grille de prix</td>\n",
       "      <td>GPRS Prix Fixe</td>\n",
       "      <td>Vente physique</td>\n",
       "      <td>NaN</td>\n",
       "      <td>RESIDENTIEL PRIVE</td>\n",
       "      <td>Résidentiel privé</td>\n",
       "      <td>Entreprises &amp; territoires Nord Est</td>\n",
       "      <td>BT &lt; 36 - simple (Simple)</td>\n",
       "      <td>Bleu</td>\n",
       "      <td>0.11860</td>\n",
       "      <td>17.313520</td>\n",
       "      <td>38.065238</td>\n",
       "      <td>0</td>\n",
       "      <td>0</td>\n",
       "      <td>0</td>\n",
       "      <td>0</td>\n",
       "      <td>dual</td>\n",
       "      <td>Administration d'immeubles et autres biens imm...</td>\n",
       "      <td>Services marchands divers (hors santé et ensei...</td>\n",
       "      <td>13.964384</td>\n",
       "      <td>Bassin Urbain</td>\n",
       "      <td>9751.0</td>\n",
       "      <td>0.07</td>\n",
       "      <td>1693.0</td>\n",
       "      <td>4574.0</td>\n",
       "      <td>11.173529</td>\n",
       "      <td>Com &gt; 200 m habts</td>\n",
       "      <td>3642.0</td>\n",
       "      <td>Grande Ville</td>\n",
       "      <td>Bassin Urbain en croissance démographique</td>\n",
       "      <td>Dynamique Economique</td>\n",
       "    </tr>\n",
       "    <tr>\n",
       "      <th>1</th>\n",
       "      <td>2017</td>\n",
       "      <td>6</td>\n",
       "      <td>Gaz</td>\n",
       "      <td>36</td>\n",
       "      <td>Prix individualisé</td>\n",
       "      <td>Référence</td>\n",
       "      <td>Vente à distance</td>\n",
       "      <td>ZONE SUD</td>\n",
       "      <td>TERTIAIRE</td>\n",
       "      <td>Tertiaire privé</td>\n",
       "      <td>Entreprises &amp; territoires vente et multicanal</td>\n",
       "      <td>P019</td>\n",
       "      <td>NaN</td>\n",
       "      <td>4.96180</td>\n",
       "      <td>16.783495</td>\n",
       "      <td>34.830435</td>\n",
       "      <td>0</td>\n",
       "      <td>0</td>\n",
       "      <td>0</td>\n",
       "      <td>0</td>\n",
       "      <td>NaN</td>\n",
       "      <td>NaN</td>\n",
       "      <td>NaN</td>\n",
       "      <td>NaN</td>\n",
       "      <td>Bassin Urbain</td>\n",
       "      <td>5847.0</td>\n",
       "      <td>0.05</td>\n",
       "      <td>1095.0</td>\n",
       "      <td>1957.0</td>\n",
       "      <td>12.399057</td>\n",
       "      <td>Com &lt; 50 m habts</td>\n",
       "      <td>2242.0</td>\n",
       "      <td>Grande Ville</td>\n",
       "      <td>Bassin Urbain en croissance démographique</td>\n",
       "      <td>Dynamique Economique</td>\n",
       "    </tr>\n",
       "    <tr>\n",
       "      <th>2</th>\n",
       "      <td>2017</td>\n",
       "      <td>1</td>\n",
       "      <td>Gaz</td>\n",
       "      <td>36</td>\n",
       "      <td>Prix individualisé</td>\n",
       "      <td>Référence</td>\n",
       "      <td>Vente à distance</td>\n",
       "      <td>ZONE SUD</td>\n",
       "      <td>TERTIAIRE</td>\n",
       "      <td>Tertiaire privé</td>\n",
       "      <td>Entreprises &amp; territoires vente et multicanal</td>\n",
       "      <td>P019</td>\n",
       "      <td>NaN</td>\n",
       "      <td>4.96180</td>\n",
       "      <td>16.615879</td>\n",
       "      <td>41.947143</td>\n",
       "      <td>2</td>\n",
       "      <td>0</td>\n",
       "      <td>1</td>\n",
       "      <td>0</td>\n",
       "      <td>NaN</td>\n",
       "      <td>NaN</td>\n",
       "      <td>NaN</td>\n",
       "      <td>NaN</td>\n",
       "      <td>Bassin Urbain</td>\n",
       "      <td>5847.0</td>\n",
       "      <td>0.05</td>\n",
       "      <td>1095.0</td>\n",
       "      <td>1957.0</td>\n",
       "      <td>12.399057</td>\n",
       "      <td>Com &lt; 50 m habts</td>\n",
       "      <td>2242.0</td>\n",
       "      <td>Grande Ville</td>\n",
       "      <td>Bassin Urbain en croissance démographique</td>\n",
       "      <td>Dynamique Economique</td>\n",
       "    </tr>\n",
       "    <tr>\n",
       "      <th>3</th>\n",
       "      <td>2017</td>\n",
       "      <td>8</td>\n",
       "      <td>Gaz</td>\n",
       "      <td>12</td>\n",
       "      <td>Prix individualisé</td>\n",
       "      <td>NaN</td>\n",
       "      <td>Vente à distance</td>\n",
       "      <td>ZONE NORD</td>\n",
       "      <td>TERTIAIRE</td>\n",
       "      <td>Tertiaire privé</td>\n",
       "      <td>Entreprises &amp; territoires vente et multicanal</td>\n",
       "      <td>P017</td>\n",
       "      <td>NaN</td>\n",
       "      <td>1.28400</td>\n",
       "      <td>16.614452</td>\n",
       "      <td>35.679091</td>\n",
       "      <td>0</td>\n",
       "      <td>0</td>\n",
       "      <td>0</td>\n",
       "      <td>0</td>\n",
       "      <td>NaN</td>\n",
       "      <td>NaN</td>\n",
       "      <td>NaN</td>\n",
       "      <td>NaN</td>\n",
       "      <td>Bassin Urbain</td>\n",
       "      <td>73599.0</td>\n",
       "      <td>0.06</td>\n",
       "      <td>13867.0</td>\n",
       "      <td>32783.0</td>\n",
       "      <td>17.731429</td>\n",
       "      <td>Com &gt; 200 m habts</td>\n",
       "      <td>34285.0</td>\n",
       "      <td>Grande Ville</td>\n",
       "      <td>Bassin Urbain en croissance démographique</td>\n",
       "      <td>Dynamique Economique</td>\n",
       "    </tr>\n",
       "    <tr>\n",
       "      <th>4</th>\n",
       "      <td>2017</td>\n",
       "      <td>8</td>\n",
       "      <td>Gaz</td>\n",
       "      <td>12</td>\n",
       "      <td>Prix individualisé</td>\n",
       "      <td>NaN</td>\n",
       "      <td>Vente physique</td>\n",
       "      <td>TIGF</td>\n",
       "      <td>TERTIAIRE</td>\n",
       "      <td>Tertiaire privé</td>\n",
       "      <td>Entreprises &amp; territoires Grand Ouest</td>\n",
       "      <td>P019</td>\n",
       "      <td>NaN</td>\n",
       "      <td>3.78125</td>\n",
       "      <td>16.614452</td>\n",
       "      <td>35.679091</td>\n",
       "      <td>0</td>\n",
       "      <td>0</td>\n",
       "      <td>0</td>\n",
       "      <td>0</td>\n",
       "      <td>gaz</td>\n",
       "      <td>Enseignement secondaire général</td>\n",
       "      <td>Enseignement</td>\n",
       "      <td>13.830137</td>\n",
       "      <td>Bassin Urbain</td>\n",
       "      <td>390301.0</td>\n",
       "      <td>0.04</td>\n",
       "      <td>62541.0</td>\n",
       "      <td>224809.0</td>\n",
       "      <td>12.776923</td>\n",
       "      <td>Com &gt; 200 m habts</td>\n",
       "      <td>147350.0</td>\n",
       "      <td>Grande Ville</td>\n",
       "      <td>Bassin Urbain en croissance démographique</td>\n",
       "      <td>Dynamique Economique</td>\n",
       "    </tr>\n",
       "  </tbody>\n",
       "</table>\n",
       "</div>"
      ],
      "text/plain": [
       "   echeance_annee  echeance_mois produit  duree        type_d_offre  \\\n",
       "0            2017              3    Elec     12      Grille de prix   \n",
       "1            2017              6     Gaz     36  Prix individualisé   \n",
       "2            2017              1     Gaz     36  Prix individualisé   \n",
       "3            2017              8     Gaz     12  Prix individualisé   \n",
       "4            2017              8     Gaz     12  Prix individualisé   \n",
       "\n",
       "     type_de_prix    canal_de_vente       zone    marche_de_la_sc  \\\n",
       "0  GPRS Prix Fixe    Vente physique        NaN  RESIDENTIEL PRIVE   \n",
       "1       Référence  Vente à distance   ZONE SUD          TERTIAIRE   \n",
       "2       Référence  Vente à distance   ZONE SUD          TERTIAIRE   \n",
       "3             NaN  Vente à distance  ZONE NORD          TERTIAIRE   \n",
       "4             NaN    Vente physique       TIGF          TERTIAIRE   \n",
       "\n",
       "  segment_societe_contractante                    entite_societe_contractante  \\\n",
       "0            Résidentiel privé             Entreprises & territoires Nord Est   \n",
       "1              Tertiaire privé  Entreprises & territoires vente et multicanal   \n",
       "2              Tertiaire privé  Entreprises & territoires vente et multicanal   \n",
       "3              Tertiaire privé  Entreprises & territoires vente et multicanal   \n",
       "4              Tertiaire privé          Entreprises & territoires Grand Ouest   \n",
       "\n",
       "                  profil_prm couleur_tarif_elec  volume_annuel  prix_gaz_m3  \\\n",
       "0  BT < 36 - simple (Simple)               Bleu        0.11860    17.313520   \n",
       "1                       P019                NaN        4.96180    16.783495   \n",
       "2                       P019                NaN        4.96180    16.615879   \n",
       "3                       P017                NaN        1.28400    16.614452   \n",
       "4                       P019                NaN        3.78125    16.614452   \n",
       "\n",
       "   prix_elec_m3  nb_dem_12  nb_recla_12  nb_dem_reco_12  nb_recla_reco_12  \\\n",
       "0     38.065238          0            0               0                 0   \n",
       "1     34.830435          0            0               0                 0   \n",
       "2     41.947143          2            0               1                 0   \n",
       "3     35.679091          0            0               0                 0   \n",
       "4     35.679091          0            0               0                 0   \n",
       "\n",
       "  type_client                                        libelle_naf  \\\n",
       "0        dual  Administration d'immeubles et autres biens imm...   \n",
       "1         NaN                                                NaN   \n",
       "2         NaN                                                NaN   \n",
       "3         NaN                                                NaN   \n",
       "4         gaz                    Enseignement secondaire général   \n",
       "\n",
       "                                        activite_nce  anciennete_client  \\\n",
       "0  Services marchands divers (hors santé et ensei...          13.964384   \n",
       "1                                                NaN                NaN   \n",
       "2                                                NaN                NaN   \n",
       "3                                                NaN                NaN   \n",
       "4                                       Enseignement          13.830137   \n",
       "\n",
       "  orientation_economique  population  evolution_pop_percent  nb_proprietaire  \\\n",
       "0          Bassin Urbain      9751.0                   0.07           1693.0   \n",
       "1          Bassin Urbain      5847.0                   0.05           1095.0   \n",
       "2          Bassin Urbain      5847.0                   0.05           1095.0   \n",
       "3          Bassin Urbain     73599.0                   0.06          13867.0   \n",
       "4          Bassin Urbain    390301.0                   0.04          62541.0   \n",
       "\n",
       "   nb_logement  dep_moyenne_salaires_horaires  urbanite_ruralite  nb_atifs  \\\n",
       "0       4574.0                      11.173529  Com > 200 m habts    3642.0   \n",
       "1       1957.0                      12.399057   Com < 50 m habts    2242.0   \n",
       "2       1957.0                      12.399057   Com < 50 m habts    2242.0   \n",
       "3      32783.0                      17.731429  Com > 200 m habts   34285.0   \n",
       "4     224809.0                      12.776923  Com > 200 m habts  147350.0   \n",
       "\n",
       "  dynamique_demographique_bv                environnement_demographique  \\\n",
       "0               Grande Ville  Bassin Urbain en croissance démographique   \n",
       "1               Grande Ville  Bassin Urbain en croissance démographique   \n",
       "2               Grande Ville  Bassin Urbain en croissance démographique   \n",
       "3               Grande Ville  Bassin Urbain en croissance démographique   \n",
       "4               Grande Ville  Bassin Urbain en croissance démographique   \n",
       "\n",
       "          seg_dyn_entre  \n",
       "0  Dynamique Economique  \n",
       "1  Dynamique Economique  \n",
       "2  Dynamique Economique  \n",
       "3  Dynamique Economique  \n",
       "4  Dynamique Economique  "
      ]
     },
     "execution_count": 7,
     "metadata": {},
     "output_type": "execute_result"
    }
   ],
   "source": [
    "df_test.head()"
   ]
  },
  {
   "cell_type": "code",
   "execution_count": 8,
   "metadata": {
    "collapsed": false
   },
   "outputs": [
    {
     "data": {
      "text/html": [
       "<div>\n",
       "<table border=\"1\" class=\"dataframe\">\n",
       "  <thead>\n",
       "    <tr style=\"text-align: right;\">\n",
       "      <th></th>\n",
       "      <th>cible</th>\n",
       "      <th>echeance_annee</th>\n",
       "      <th>echeance_mois</th>\n",
       "      <th>produit</th>\n",
       "      <th>duree</th>\n",
       "      <th>type_d_offre</th>\n",
       "      <th>type_de_prix</th>\n",
       "      <th>canal_de_vente</th>\n",
       "      <th>zone</th>\n",
       "      <th>marche_de_la_sc</th>\n",
       "      <th>segment_societe_contractante</th>\n",
       "      <th>entite_societe_contractante</th>\n",
       "      <th>profil_prm</th>\n",
       "      <th>couleur_tarif_elec</th>\n",
       "      <th>volume_annuel</th>\n",
       "      <th>prix_gaz_m3</th>\n",
       "      <th>prix_elec_m3</th>\n",
       "      <th>nb_dem_12</th>\n",
       "      <th>nb_recla_12</th>\n",
       "      <th>nb_dem_reco_12</th>\n",
       "      <th>nb_recla_reco_12</th>\n",
       "      <th>type_client</th>\n",
       "      <th>libelle_naf</th>\n",
       "      <th>activite_nce</th>\n",
       "      <th>anciennete_client</th>\n",
       "      <th>orientation_economique</th>\n",
       "      <th>population</th>\n",
       "      <th>evolution_pop_percent</th>\n",
       "      <th>nb_proprietaire</th>\n",
       "      <th>nb_logement</th>\n",
       "      <th>dep_moyenne_salaires_horaires</th>\n",
       "      <th>urbanite_ruralite</th>\n",
       "      <th>nb_atifs</th>\n",
       "      <th>dynamique_demographique_bv</th>\n",
       "      <th>environnement_demographique</th>\n",
       "      <th>seg_dyn_entre</th>\n",
       "    </tr>\n",
       "  </thead>\n",
       "  <tbody>\n",
       "    <tr>\n",
       "      <th>0</th>\n",
       "      <td>1</td>\n",
       "      <td>2016</td>\n",
       "      <td>3</td>\n",
       "      <td>Elec</td>\n",
       "      <td>12</td>\n",
       "      <td>Grille de prix</td>\n",
       "      <td>GPRS Prix Fixe</td>\n",
       "      <td>Vente physique</td>\n",
       "      <td>NaN</td>\n",
       "      <td>RESIDENTIEL PRIVE</td>\n",
       "      <td>Résidentiel privé</td>\n",
       "      <td>Entreprises &amp; territoires Nord Est</td>\n",
       "      <td>BT &lt; 36 - simple (Simple)</td>\n",
       "      <td>Bleu</td>\n",
       "      <td>0.11860</td>\n",
       "      <td>16.415322</td>\n",
       "      <td>34.367000</td>\n",
       "      <td>0</td>\n",
       "      <td>0</td>\n",
       "      <td>0</td>\n",
       "      <td>0</td>\n",
       "      <td>dual</td>\n",
       "      <td>Administration d'immeubles et autres biens imm...</td>\n",
       "      <td>Services marchands divers (hors santé et ensei...</td>\n",
       "      <td>13.964384</td>\n",
       "      <td>Bassin Urbain</td>\n",
       "      <td>9751.0</td>\n",
       "      <td>0.07</td>\n",
       "      <td>1693.0</td>\n",
       "      <td>4574.0</td>\n",
       "      <td>11.173529</td>\n",
       "      <td>Com &gt; 200 m habts</td>\n",
       "      <td>3642.0</td>\n",
       "      <td>Grande Ville</td>\n",
       "      <td>Bassin Urbain en croissance démographique</td>\n",
       "      <td>Dynamique Economique</td>\n",
       "    </tr>\n",
       "    <tr>\n",
       "      <th>1</th>\n",
       "      <td>1</td>\n",
       "      <td>2014</td>\n",
       "      <td>3</td>\n",
       "      <td>Elec</td>\n",
       "      <td>12</td>\n",
       "      <td>Grille de prix</td>\n",
       "      <td>GPRS Prix Fixe</td>\n",
       "      <td>Vente physique</td>\n",
       "      <td>NaN</td>\n",
       "      <td>RESIDENTIEL PRIVE</td>\n",
       "      <td>Résidentiel privé</td>\n",
       "      <td>Entreprises &amp; territoires Nord Est</td>\n",
       "      <td>BT &lt; 36 - simple (Simple)</td>\n",
       "      <td>Bleu</td>\n",
       "      <td>0.11860</td>\n",
       "      <td>27.547958</td>\n",
       "      <td>43.686875</td>\n",
       "      <td>0</td>\n",
       "      <td>0</td>\n",
       "      <td>0</td>\n",
       "      <td>0</td>\n",
       "      <td>dual</td>\n",
       "      <td>Administration d'immeubles et autres biens imm...</td>\n",
       "      <td>Services marchands divers (hors santé et ensei...</td>\n",
       "      <td>13.964384</td>\n",
       "      <td>Bassin Urbain</td>\n",
       "      <td>9751.0</td>\n",
       "      <td>0.07</td>\n",
       "      <td>1693.0</td>\n",
       "      <td>4574.0</td>\n",
       "      <td>11.173529</td>\n",
       "      <td>Com &gt; 200 m habts</td>\n",
       "      <td>3642.0</td>\n",
       "      <td>Grande Ville</td>\n",
       "      <td>Bassin Urbain en croissance démographique</td>\n",
       "      <td>Dynamique Economique</td>\n",
       "    </tr>\n",
       "    <tr>\n",
       "      <th>2</th>\n",
       "      <td>1</td>\n",
       "      <td>2013</td>\n",
       "      <td>3</td>\n",
       "      <td>Elec</td>\n",
       "      <td>12</td>\n",
       "      <td>Grille de prix</td>\n",
       "      <td>GPRS Prix Fixe</td>\n",
       "      <td>Vente physique</td>\n",
       "      <td>NaN</td>\n",
       "      <td>RESIDENTIEL PRIVE</td>\n",
       "      <td>Résidentiel privé</td>\n",
       "      <td>Entreprises &amp; territoires Nord Est</td>\n",
       "      <td>BT &lt; 36 - simple (Simple)</td>\n",
       "      <td>Bleu</td>\n",
       "      <td>0.11860</td>\n",
       "      <td>NaN</td>\n",
       "      <td>NaN</td>\n",
       "      <td>0</td>\n",
       "      <td>0</td>\n",
       "      <td>0</td>\n",
       "      <td>0</td>\n",
       "      <td>dual</td>\n",
       "      <td>Administration d'immeubles et autres biens imm...</td>\n",
       "      <td>Services marchands divers (hors santé et ensei...</td>\n",
       "      <td>13.964384</td>\n",
       "      <td>Bassin Urbain</td>\n",
       "      <td>9751.0</td>\n",
       "      <td>0.07</td>\n",
       "      <td>1693.0</td>\n",
       "      <td>4574.0</td>\n",
       "      <td>11.173529</td>\n",
       "      <td>Com &gt; 200 m habts</td>\n",
       "      <td>3642.0</td>\n",
       "      <td>Grande Ville</td>\n",
       "      <td>Bassin Urbain en croissance démographique</td>\n",
       "      <td>Dynamique Economique</td>\n",
       "    </tr>\n",
       "    <tr>\n",
       "      <th>3</th>\n",
       "      <td>1</td>\n",
       "      <td>2015</td>\n",
       "      <td>3</td>\n",
       "      <td>Elec</td>\n",
       "      <td>12</td>\n",
       "      <td>Grille de prix</td>\n",
       "      <td>GPRS Prix Fixe</td>\n",
       "      <td>Vente physique</td>\n",
       "      <td>NaN</td>\n",
       "      <td>RESIDENTIEL PRIVE</td>\n",
       "      <td>Résidentiel privé</td>\n",
       "      <td>Entreprises &amp; territoires Nord Est</td>\n",
       "      <td>BT &lt; 36 - simple (Simple)</td>\n",
       "      <td>Bleu</td>\n",
       "      <td>0.11860</td>\n",
       "      <td>22.850872</td>\n",
       "      <td>40.846316</td>\n",
       "      <td>0</td>\n",
       "      <td>0</td>\n",
       "      <td>0</td>\n",
       "      <td>0</td>\n",
       "      <td>dual</td>\n",
       "      <td>Administration d'immeubles et autres biens imm...</td>\n",
       "      <td>Services marchands divers (hors santé et ensei...</td>\n",
       "      <td>13.964384</td>\n",
       "      <td>Bassin Urbain</td>\n",
       "      <td>9751.0</td>\n",
       "      <td>0.07</td>\n",
       "      <td>1693.0</td>\n",
       "      <td>4574.0</td>\n",
       "      <td>11.173529</td>\n",
       "      <td>Com &gt; 200 m habts</td>\n",
       "      <td>3642.0</td>\n",
       "      <td>Grande Ville</td>\n",
       "      <td>Bassin Urbain en croissance démographique</td>\n",
       "      <td>Dynamique Economique</td>\n",
       "    </tr>\n",
       "    <tr>\n",
       "      <th>4</th>\n",
       "      <td>1</td>\n",
       "      <td>2014</td>\n",
       "      <td>9</td>\n",
       "      <td>Gaz</td>\n",
       "      <td>12</td>\n",
       "      <td>Prix individualisé</td>\n",
       "      <td>Référence</td>\n",
       "      <td>Vente physique</td>\n",
       "      <td>ZONE NORD</td>\n",
       "      <td>TERTIAIRE</td>\n",
       "      <td>Tertiaire privé</td>\n",
       "      <td>Entreprises &amp; territoires Nord Est</td>\n",
       "      <td>P017</td>\n",
       "      <td>NaN</td>\n",
       "      <td>5.50545</td>\n",
       "      <td>24.530851</td>\n",
       "      <td>41.823333</td>\n",
       "      <td>0</td>\n",
       "      <td>0</td>\n",
       "      <td>0</td>\n",
       "      <td>0</td>\n",
       "      <td>gaz</td>\n",
       "      <td>Entreposage et stockage non frigorifique</td>\n",
       "      <td>Services marchands divers (hors santé et ensei...</td>\n",
       "      <td>14.920548</td>\n",
       "      <td>Bassin Industriel</td>\n",
       "      <td>1700.0</td>\n",
       "      <td>0.06</td>\n",
       "      <td>430.0</td>\n",
       "      <td>623.0</td>\n",
       "      <td>11.981429</td>\n",
       "      <td>Com &lt; 10 m habts</td>\n",
       "      <td>745.0</td>\n",
       "      <td>1.Accroissement par excédent naturel et migrat...</td>\n",
       "      <td>Bassin Industriel en croissance démographique</td>\n",
       "      <td>Dynamique Economique</td>\n",
       "    </tr>\n",
       "  </tbody>\n",
       "</table>\n",
       "</div>"
      ],
      "text/plain": [
       "   cible  echeance_annee  echeance_mois produit  duree        type_d_offre  \\\n",
       "0      1            2016              3    Elec     12      Grille de prix   \n",
       "1      1            2014              3    Elec     12      Grille de prix   \n",
       "2      1            2013              3    Elec     12      Grille de prix   \n",
       "3      1            2015              3    Elec     12      Grille de prix   \n",
       "4      1            2014              9     Gaz     12  Prix individualisé   \n",
       "\n",
       "     type_de_prix  canal_de_vente       zone    marche_de_la_sc  \\\n",
       "0  GPRS Prix Fixe  Vente physique        NaN  RESIDENTIEL PRIVE   \n",
       "1  GPRS Prix Fixe  Vente physique        NaN  RESIDENTIEL PRIVE   \n",
       "2  GPRS Prix Fixe  Vente physique        NaN  RESIDENTIEL PRIVE   \n",
       "3  GPRS Prix Fixe  Vente physique        NaN  RESIDENTIEL PRIVE   \n",
       "4       Référence  Vente physique  ZONE NORD          TERTIAIRE   \n",
       "\n",
       "  segment_societe_contractante         entite_societe_contractante  \\\n",
       "0            Résidentiel privé  Entreprises & territoires Nord Est   \n",
       "1            Résidentiel privé  Entreprises & territoires Nord Est   \n",
       "2            Résidentiel privé  Entreprises & territoires Nord Est   \n",
       "3            Résidentiel privé  Entreprises & territoires Nord Est   \n",
       "4              Tertiaire privé  Entreprises & territoires Nord Est   \n",
       "\n",
       "                  profil_prm couleur_tarif_elec  volume_annuel  prix_gaz_m3  \\\n",
       "0  BT < 36 - simple (Simple)               Bleu        0.11860    16.415322   \n",
       "1  BT < 36 - simple (Simple)               Bleu        0.11860    27.547958   \n",
       "2  BT < 36 - simple (Simple)               Bleu        0.11860          NaN   \n",
       "3  BT < 36 - simple (Simple)               Bleu        0.11860    22.850872   \n",
       "4                       P017                NaN        5.50545    24.530851   \n",
       "\n",
       "   prix_elec_m3  nb_dem_12  nb_recla_12  nb_dem_reco_12  nb_recla_reco_12  \\\n",
       "0     34.367000          0            0               0                 0   \n",
       "1     43.686875          0            0               0                 0   \n",
       "2           NaN          0            0               0                 0   \n",
       "3     40.846316          0            0               0                 0   \n",
       "4     41.823333          0            0               0                 0   \n",
       "\n",
       "  type_client                                        libelle_naf  \\\n",
       "0        dual  Administration d'immeubles et autres biens imm...   \n",
       "1        dual  Administration d'immeubles et autres biens imm...   \n",
       "2        dual  Administration d'immeubles et autres biens imm...   \n",
       "3        dual  Administration d'immeubles et autres biens imm...   \n",
       "4         gaz           Entreposage et stockage non frigorifique   \n",
       "\n",
       "                                        activite_nce  anciennete_client  \\\n",
       "0  Services marchands divers (hors santé et ensei...          13.964384   \n",
       "1  Services marchands divers (hors santé et ensei...          13.964384   \n",
       "2  Services marchands divers (hors santé et ensei...          13.964384   \n",
       "3  Services marchands divers (hors santé et ensei...          13.964384   \n",
       "4  Services marchands divers (hors santé et ensei...          14.920548   \n",
       "\n",
       "  orientation_economique  population  evolution_pop_percent  nb_proprietaire  \\\n",
       "0          Bassin Urbain      9751.0                   0.07           1693.0   \n",
       "1          Bassin Urbain      9751.0                   0.07           1693.0   \n",
       "2          Bassin Urbain      9751.0                   0.07           1693.0   \n",
       "3          Bassin Urbain      9751.0                   0.07           1693.0   \n",
       "4      Bassin Industriel      1700.0                   0.06            430.0   \n",
       "\n",
       "   nb_logement  dep_moyenne_salaires_horaires  urbanite_ruralite  nb_atifs  \\\n",
       "0       4574.0                      11.173529  Com > 200 m habts    3642.0   \n",
       "1       4574.0                      11.173529  Com > 200 m habts    3642.0   \n",
       "2       4574.0                      11.173529  Com > 200 m habts    3642.0   \n",
       "3       4574.0                      11.173529  Com > 200 m habts    3642.0   \n",
       "4        623.0                      11.981429   Com < 10 m habts     745.0   \n",
       "\n",
       "                          dynamique_demographique_bv  \\\n",
       "0                                       Grande Ville   \n",
       "1                                       Grande Ville   \n",
       "2                                       Grande Ville   \n",
       "3                                       Grande Ville   \n",
       "4  1.Accroissement par excédent naturel et migrat...   \n",
       "\n",
       "                     environnement_demographique         seg_dyn_entre  \n",
       "0      Bassin Urbain en croissance démographique  Dynamique Economique  \n",
       "1      Bassin Urbain en croissance démographique  Dynamique Economique  \n",
       "2      Bassin Urbain en croissance démographique  Dynamique Economique  \n",
       "3      Bassin Urbain en croissance démographique  Dynamique Economique  \n",
       "4  Bassin Industriel en croissance démographique  Dynamique Economique  "
      ]
     },
     "execution_count": 8,
     "metadata": {},
     "output_type": "execute_result"
    }
   ],
   "source": [
    "df_train.head(5)"
   ]
  },
  {
   "cell_type": "code",
   "execution_count": 9,
   "metadata": {
    "collapsed": false
   },
   "outputs": [
    {
     "data": {
      "text/plain": [
       "Index(['cible', 'echeance_annee', 'echeance_mois', 'produit', 'duree',\n",
       "       'type_d_offre', 'type_de_prix', 'canal_de_vente', 'zone',\n",
       "       'marche_de_la_sc', 'segment_societe_contractante',\n",
       "       'entite_societe_contractante', 'profil_prm', 'couleur_tarif_elec',\n",
       "       'volume_annuel', 'prix_gaz_m3', 'prix_elec_m3', 'nb_dem_12',\n",
       "       'nb_recla_12', 'nb_dem_reco_12', 'nb_recla_reco_12', 'type_client',\n",
       "       'libelle_naf', 'activite_nce', 'anciennete_client',\n",
       "       'orientation_economique', 'population', 'evolution_pop_percent',\n",
       "       'nb_proprietaire', 'nb_logement', 'dep_moyenne_salaires_horaires',\n",
       "       'urbanite_ruralite', 'nb_atifs', 'dynamique_demographique_bv',\n",
       "       'environnement_demographique', 'seg_dyn_entre'],\n",
       "      dtype='object')"
      ]
     },
     "execution_count": 9,
     "metadata": {},
     "output_type": "execute_result"
    }
   ],
   "source": [
    "df_train.columns"
   ]
  },
  {
   "cell_type": "code",
   "execution_count": 10,
   "metadata": {
    "collapsed": false
   },
   "outputs": [
    {
     "data": {
      "text/plain": [
       "cible                              int64\n",
       "echeance_annee                     int64\n",
       "echeance_mois                      int64\n",
       "produit                           object\n",
       "duree                              int64\n",
       "type_d_offre                      object\n",
       "type_de_prix                      object\n",
       "canal_de_vente                    object\n",
       "zone                              object\n",
       "marche_de_la_sc                   object\n",
       "segment_societe_contractante      object\n",
       "entite_societe_contractante       object\n",
       "profil_prm                        object\n",
       "couleur_tarif_elec                object\n",
       "volume_annuel                    float64\n",
       "prix_gaz_m3                      float64\n",
       "prix_elec_m3                     float64\n",
       "nb_dem_12                          int64\n",
       "nb_recla_12                        int64\n",
       "nb_dem_reco_12                     int64\n",
       "nb_recla_reco_12                   int64\n",
       "type_client                       object\n",
       "libelle_naf                       object\n",
       "activite_nce                      object\n",
       "anciennete_client                float64\n",
       "orientation_economique            object\n",
       "population                       float64\n",
       "evolution_pop_percent            float64\n",
       "nb_proprietaire                  float64\n",
       "nb_logement                      float64\n",
       "dep_moyenne_salaires_horaires    float64\n",
       "urbanite_ruralite                 object\n",
       "nb_atifs                         float64\n",
       "dynamique_demographique_bv        object\n",
       "environnement_demographique       object\n",
       "seg_dyn_entre                     object\n",
       "dtype: object"
      ]
     },
     "execution_count": 10,
     "metadata": {},
     "output_type": "execute_result"
    }
   ],
   "source": [
    "df_train.dtypes"
   ]
  },
  {
   "cell_type": "code",
   "execution_count": 11,
   "metadata": {
    "collapsed": false
   },
   "outputs": [
    {
     "data": {
      "text/plain": [
       "cible                                 0\n",
       "echeance_annee                        0\n",
       "echeance_mois                         0\n",
       "produit                               0\n",
       "duree                                 0\n",
       "type_d_offre                          0\n",
       "type_de_prix                        568\n",
       "canal_de_vente                        0\n",
       "zone                             307510\n",
       "marche_de_la_sc                       0\n",
       "segment_societe_contractante          0\n",
       "entite_societe_contractante           0\n",
       "profil_prm                         7582\n",
       "couleur_tarif_elec                54267\n",
       "volume_annuel                     15276\n",
       "prix_gaz_m3                       82005\n",
       "prix_elec_m3                      16369\n",
       "nb_dem_12                             0\n",
       "nb_recla_12                           0\n",
       "nb_dem_reco_12                        0\n",
       "nb_recla_reco_12                      0\n",
       "type_client                       68158\n",
       "libelle_naf                       68384\n",
       "activite_nce                      68397\n",
       "anciennete_client                 68158\n",
       "orientation_economique            81522\n",
       "population                        81522\n",
       "evolution_pop_percent             81522\n",
       "nb_proprietaire                   81522\n",
       "nb_logement                       81522\n",
       "dep_moyenne_salaires_horaires     81522\n",
       "urbanite_ruralite                 81522\n",
       "nb_atifs                          81522\n",
       "dynamique_demographique_bv        81522\n",
       "environnement_demographique       81522\n",
       "seg_dyn_entre                     81522\n",
       "dtype: int64"
      ]
     },
     "execution_count": 11,
     "metadata": {},
     "output_type": "execute_result"
    }
   ],
   "source": [
    "df_train.isnull().sum()"
   ]
  },
  {
   "cell_type": "code",
   "execution_count": 12,
   "metadata": {
    "collapsed": false
   },
   "outputs": [
    {
     "data": {
      "text/plain": [
       "array([2016, 2014, 2013, 2015], dtype=int64)"
      ]
     },
     "execution_count": 12,
     "metadata": {},
     "output_type": "execute_result"
    }
   ],
   "source": [
    "df_train.echeance_annee.unique()"
   ]
  },
  {
   "cell_type": "code",
   "execution_count": 13,
   "metadata": {
    "collapsed": false
   },
   "outputs": [
    {
     "data": {
      "text/plain": [
       "array([ 3,  9,  4,  6,  8, 10, 12,  1,  7, 11,  2,  5], dtype=int64)"
      ]
     },
     "execution_count": 13,
     "metadata": {},
     "output_type": "execute_result"
    }
   ],
   "source": [
    "df_train.echeance_mois.unique()"
   ]
  },
  {
   "cell_type": "code",
   "execution_count": 14,
   "metadata": {
    "collapsed": false,
    "scrolled": true
   },
   "outputs": [
    {
     "data": {
      "text/plain": [
       "array(['Elec', 'Gaz'], dtype=object)"
      ]
     },
     "execution_count": 14,
     "metadata": {},
     "output_type": "execute_result"
    }
   ],
   "source": [
    "df_train.produit.unique()"
   ]
  },
  {
   "cell_type": "code",
   "execution_count": 15,
   "metadata": {
    "collapsed": false
   },
   "outputs": [
    {
     "data": {
      "text/plain": [
       "array([12, 36,  0, 24, 60,  5, 48, 11, 25, 13, 16,  3, 22, 14,  7, 10,  1,\n",
       "       20, 28,  6, 33,  4, 18,  8, 38], dtype=int64)"
      ]
     },
     "execution_count": 15,
     "metadata": {},
     "output_type": "execute_result"
    }
   ],
   "source": [
    "df_train.duree.unique()"
   ]
  },
  {
   "cell_type": "code",
   "execution_count": 16,
   "metadata": {
    "collapsed": false
   },
   "outputs": [
    {
     "data": {
      "text/plain": [
       "array(['Grille de prix', 'Prix individualisé'], dtype=object)"
      ]
     },
     "execution_count": 16,
     "metadata": {},
     "output_type": "execute_result"
    }
   ],
   "source": [
    "df_train.type_d_offre.unique()"
   ]
  },
  {
   "cell_type": "code",
   "execution_count": 17,
   "metadata": {
    "collapsed": false
   },
   "outputs": [
    {
     "data": {
      "text/plain": [
       "array(['GPRS Prix Fixe', 'Référence', nan, 'Connecté marché', 'Prix Fixe',\n",
       "       \"MAITRIZ' 100% fixe\", 'Offre de bascule', 'Indexé Marché',\n",
       "       'Prix Fixe garanti', 'Grille de prix indexé TR',\n",
       "       'Grille de prix fixe', \"MAITRIZ' énergie fixe\", 'Reflet Marché',\n",
       "       'Grille de prix FT', \"ORIGIN'\"], dtype=object)"
      ]
     },
     "execution_count": 17,
     "metadata": {},
     "output_type": "execute_result"
    }
   ],
   "source": [
    "df_train.type_de_prix.unique()"
   ]
  },
  {
   "cell_type": "code",
   "execution_count": 18,
   "metadata": {
    "collapsed": false
   },
   "outputs": [
    {
     "data": {
      "text/plain": [
       "array(['Vente physique', 'Vente à distance'], dtype=object)"
      ]
     },
     "execution_count": 18,
     "metadata": {},
     "output_type": "execute_result"
    }
   ],
   "source": [
    "df_train.canal_de_vente.unique()"
   ]
  },
  {
   "cell_type": "code",
   "execution_count": 19,
   "metadata": {
    "collapsed": false
   },
   "outputs": [
    {
     "data": {
      "text/plain": [
       "array([nan, 'ZONE NORD', 'ZONE SUD', 'TIGF'], dtype=object)"
      ]
     },
     "execution_count": 19,
     "metadata": {},
     "output_type": "execute_result"
    }
   ],
   "source": [
    "df_train.zone.unique()"
   ]
  },
  {
   "cell_type": "code",
   "execution_count": 20,
   "metadata": {
    "collapsed": false
   },
   "outputs": [
    {
     "data": {
      "text/plain": [
       "array(['RESIDENTIEL PRIVE', 'TERTIAIRE', 'INDUSTRIE'], dtype=object)"
      ]
     },
     "execution_count": 20,
     "metadata": {},
     "output_type": "execute_result"
    }
   ],
   "source": [
    "df_train.marche_de_la_sc.unique()"
   ]
  },
  {
   "cell_type": "code",
   "execution_count": 21,
   "metadata": {
    "collapsed": false
   },
   "outputs": [
    {
     "data": {
      "text/plain": [
       "array(['Résidentiel privé', 'Tertiaire privé', 'Industrie',\n",
       "       'OP Energétique'], dtype=object)"
      ]
     },
     "execution_count": 21,
     "metadata": {},
     "output_type": "execute_result"
    }
   ],
   "source": [
    "df_train.segment_societe_contractante.unique()"
   ]
  },
  {
   "cell_type": "code",
   "execution_count": 22,
   "metadata": {
    "collapsed": false
   },
   "outputs": [
    {
     "data": {
      "text/plain": [
       "array(['Entreprises & territoires Nord Est',\n",
       "       'Entreprises & territoires vente et multicanal',\n",
       "       'Entreprises & territoires IDF',\n",
       "       'Entreprises & territoires Grand Ouest',\n",
       "       'Entreprises & territoires Sud Est'], dtype=object)"
      ]
     },
     "execution_count": 22,
     "metadata": {},
     "output_type": "execute_result"
    }
   ],
   "source": [
    "df_train.entite_societe_contractante.unique()"
   ]
  },
  {
   "cell_type": "code",
   "execution_count": 23,
   "metadata": {
    "collapsed": false
   },
   "outputs": [
    {
     "data": {
      "text/plain": [
       "array(['BT < 36 - simple (Simple)', 'P017', nan, 'P019',\n",
       "       'BT > 36 -4 index', 'P016', 'P015', 'P014', 'P018', 'P013', 'P012',\n",
       "       'P011', 'BT < 36- double (HP HC)', 'BT < 36 - EP (Simple EP)',\n",
       "       'BT < 36 -4index', 'HTA5 (5 index)'], dtype=object)"
      ]
     },
     "execution_count": 23,
     "metadata": {},
     "output_type": "execute_result"
    }
   ],
   "source": [
    "df_train.profil_prm.unique()"
   ]
  },
  {
   "cell_type": "code",
   "execution_count": 24,
   "metadata": {
    "collapsed": false
   },
   "outputs": [
    {
     "data": {
      "text/plain": [
       "array(['Bleu', nan, 'Jaune', 'Vert'], dtype=object)"
      ]
     },
     "execution_count": 24,
     "metadata": {},
     "output_type": "execute_result"
    }
   ],
   "source": [
    "df_train.couleur_tarif_elec.unique()"
   ]
  },
  {
   "cell_type": "code",
   "execution_count": 25,
   "metadata": {
    "collapsed": false
   },
   "outputs": [
    {
     "data": {
      "text/plain": [
       "array([ 0.1186 ,  5.50545,  2.15   , ...,  0.4533 ,  0.5113 ,  2.89705])"
      ]
     },
     "execution_count": 25,
     "metadata": {},
     "output_type": "execute_result"
    }
   ],
   "source": [
    "df_train.volume_annuel.unique()"
   ]
  },
  {
   "cell_type": "code",
   "execution_count": 26,
   "metadata": {
    "collapsed": false
   },
   "outputs": [
    {
     "data": {
      "text/plain": [
       "array([ 16.41532179,  27.54795777,          nan,  22.85087161,\n",
       "        24.53085071,  21.73395267,  26.4850501 ,  25.2855065 ,\n",
       "        24.82315031,  21.8973861 ,  16.52716421,  24.4574753 ,\n",
       "        25.26055559,  22.13723742,  18.51949083,  24.24378953,\n",
       "        26.57648137,  22.09783301,  13.94988167,  24.75644133,\n",
       "        20.60054182,  15.12237223,  20.02613546,  15.23112229,\n",
       "        26.69965096,  17.62325459,  23.71098401,  25.1518473 ,\n",
       "        13.84534736,  21.38557731,  27.05092818,  15.7407481 ,\n",
       "        22.59176055,  16.81678376,  14.68604821,  14.19362677,\n",
       "        19.40147345,  25.80665473])"
      ]
     },
     "execution_count": 26,
     "metadata": {},
     "output_type": "execute_result"
    }
   ],
   "source": [
    "df_train.prix_gaz_m3.unique()"
   ]
  },
  {
   "cell_type": "code",
   "execution_count": 27,
   "metadata": {
    "collapsed": false
   },
   "outputs": [
    {
     "data": {
      "text/plain": [
       "array([ 34.367     ,  43.686875  ,          nan,  40.84631579,\n",
       "        41.82333333,  38.57863636,  41.87789474,  46.18318182,\n",
       "        42.70818182,  42.90095238,  44.3235    ,  42.1       ,\n",
       "        41.92      ,  38.62105263,  41.94869565,  32.67227273,\n",
       "        41.94391304,  43.05136364,  38.86272727,  36.99      ,\n",
       "        43.0273913 ,  43.03      ,  39.0695    ,  28.29857143,\n",
       "        43.68904762,  42.0825    ,  38.01428571,  30.05727273,\n",
       "        39.05428571,  33.53272727,  43.11761905,  36.3652381 ,\n",
       "        42.5185    ,  42.8247619 ,  41.90714286,  26.02285714,\n",
       "        39.60565217,  42.7855    ,  31.98      ,  39.8925    ,\n",
       "        33.23238095,  29.9785    ,  26.7252381 ,  38.01727273,\n",
       "        42.9575    ,  45.1415    ])"
      ]
     },
     "execution_count": 27,
     "metadata": {},
     "output_type": "execute_result"
    }
   ],
   "source": [
    "df_train.prix_elec_m3.unique()"
   ]
  },
  {
   "cell_type": "code",
   "execution_count": 28,
   "metadata": {
    "collapsed": false
   },
   "outputs": [
    {
     "data": {
      "text/plain": [
       "array([ 0,  1,  2,  5,  4,  3,  7,  6,  8, 10,  9, 12, 11, 15, 13, 17, 16], dtype=int64)"
      ]
     },
     "execution_count": 28,
     "metadata": {},
     "output_type": "execute_result"
    }
   ],
   "source": [
    "df_train.nb_dem_12.unique()"
   ]
  },
  {
   "cell_type": "code",
   "execution_count": 29,
   "metadata": {
    "collapsed": false
   },
   "outputs": [
    {
     "data": {
      "text/plain": [
       "array([0, 1, 2, 4, 3, 6, 5, 7, 8, 9], dtype=int64)"
      ]
     },
     "execution_count": 29,
     "metadata": {},
     "output_type": "execute_result"
    }
   ],
   "source": [
    "df_train.nb_recla_12.unique()"
   ]
  },
  {
   "cell_type": "code",
   "execution_count": 30,
   "metadata": {
    "collapsed": false
   },
   "outputs": [
    {
     "data": {
      "text/plain": [
       "array([0, 1, 2, 3, 4, 5], dtype=int64)"
      ]
     },
     "execution_count": 30,
     "metadata": {},
     "output_type": "execute_result"
    }
   ],
   "source": [
    "df_train.nb_dem_reco_12.unique()"
   ]
  },
  {
   "cell_type": "code",
   "execution_count": 31,
   "metadata": {
    "collapsed": false
   },
   "outputs": [
    {
     "data": {
      "text/plain": [
       "array([0, 1, 2, 4, 3], dtype=int64)"
      ]
     },
     "execution_count": 31,
     "metadata": {},
     "output_type": "execute_result"
    }
   ],
   "source": [
    "df_train.nb_recla_reco_12.unique()"
   ]
  },
  {
   "cell_type": "code",
   "execution_count": 32,
   "metadata": {
    "collapsed": false
   },
   "outputs": [
    {
     "data": {
      "text/plain": [
       "array(['dual', 'gaz', nan, 'élec'], dtype=object)"
      ]
     },
     "execution_count": 32,
     "metadata": {},
     "output_type": "execute_result"
    }
   ],
   "source": [
    "df_train.type_client.unique()"
   ]
  },
  {
   "cell_type": "code",
   "execution_count": 33,
   "metadata": {
    "collapsed": false
   },
   "outputs": [
    {
     "data": {
      "text/plain": [
       "array([\"Administration d'immeubles et autres biens immobiliers\",\n",
       "       'Entreposage et stockage non frigorifique', nan,\n",
       "       'Enseignement secondaire technique ou professionnel',\n",
       "       'Hébergement médicalisés pour enfants handicapés',\n",
       "       'Commerce de voitures et de véhicules automobiles légers',\n",
       "       'Agences immobilières', 'Hôtels et hébergement similaire',\n",
       "       'Enseignement secondaire général',\n",
       "       'Commerce de détail de produits pharmaceutiques en magasin sp',\n",
       "       'Activités des organisations religieuses', 'Autres hébergements',\n",
       "       \"Commerce de gros (commerce interentreprises) d'ordinateurs,\",\n",
       "       'Fabrication de tubes, tuyaux, profilés creux et accessoires',\n",
       "       'Commerce de gros (commerce interentreprises) de fournitures',\n",
       "       \"Fabrication d'articles textiles, sauf habillement\",\n",
       "       'Fonderie de métaux légers',\n",
       "       'Hébergement social pour handicapés mentaux et malades mentau',\n",
       "       'Aide par le travail',\n",
       "       'Hébergement médicalisé pour personnes âgées',\n",
       "       'Autre imprimerie (labeur)',\n",
       "       'Fabrication de carrosseries et remorques', 'Autres enseignements',\n",
       "       'Hébergement médicalisé pour adultes handicapés et autre hébe',\n",
       "       'Autre transformation et conservation de légumes',\n",
       "       'Hébergement touristique et autre hébergement de courte durée',\n",
       "       'Commerce de détail de meubles', 'Activités hospitalières',\n",
       "       'Commerce de gros (commerce interentreprises) de sucre, choco',\n",
       "       \"Commerce de détail d'habillement en magasin spécialisé\",\n",
       "       'Location et location-bail de machines et équipements pour la',\n",
       "       'Action sociale sans hébergement n.c.a.', 'Activité des géomètres',\n",
       "       'Fabrication de placage et de panneaux de bois',\n",
       "       'Recherche-développement en autres sciences physiques et natu',\n",
       "       'Fabrication de machines pour le travail du caoutchouc ou des',\n",
       "       \"Fabrication d'autres équipements automobiles\",\n",
       "       \"Formation continue d'adultes\", 'Location de logements',\n",
       "       'Transports routiers de fret interurbains',\n",
       "       \"Construction d'autres ouvrages de génie civil n.c.a.\",\n",
       "       'Activités des syndicats de salariés',\n",
       "       'Commerce de gros (commerce interentreprises) de céréales, de',\n",
       "       'Supports juridiques de gestion de patrimoine immobilier',\n",
       "       'Hébergement social pour handicapés physiques',\n",
       "       'Hébergement social pour adultes et familles en difficultés e',\n",
       "       'Activités des sociétés holding',\n",
       "       'Commerce de gros (commerce interentreprises) de matériel éle',\n",
       "       'Transformation du thé et du café',\n",
       "       'Autres cultures non permanentes',\n",
       "       \"Fabrication d'autres produits alimentaires n.c.a.\",\n",
       "       'Enseignement primaire',\n",
       "       \"Fabrication d'éléments en matières plastiques pour la constr\",\n",
       "       \"Entretien et réparation d'autres véhicules automobiles\",\n",
       "       \"Activités de centres d'appels\",\n",
       "       'Hébergement social pour enfants en difficultés',\n",
       "       'Autre accueil ou accompagnement sans hébergement d\\x92enfants e',\n",
       "       'Vente à distance sur catalogue spécialisé',\n",
       "       'Fabrication de jeux et jouets',\n",
       "       \"Commerce de gros (commerce interentreprises) d'habillement e\",\n",
       "       'Enseignement supérieur', 'Fabrication de serrures et de ferrures',\n",
       "       'Réassurance', \"Location de terrains et d'autres biens immobiliers\",\n",
       "       'Supports juridiques de gestion de patrimoine mobilier',\n",
       "       'Fabrication de parfums et de produits pour la toilette',\n",
       "       'Construction de maisons individuelles',\n",
       "       'Supports juridiques de programmes',\n",
       "       'Activités des agences de publicité',\n",
       "       \"Travaux d'installation d'équipements thermiques et de climat\",\n",
       "       'Fabrication de radiateurs et de chaudières pour le chauffage',\n",
       "       'Fabrication de meubles de bureau et de magasin',\n",
       "       'Commerce de gros (commerce interentreprises) de fleurs et pl',\n",
       "       'Découpage, emboutissage', 'Promotion immobilière de logements',\n",
       "       'Autres commerces de détail spécialisés divers',\n",
       "       \"Fabrication d'aliments pour animaux de ferme\",\n",
       "       \"Fabrication d'instrumentation scientifique et technique\",\n",
       "       'Activités des marchands de biens immobiliers',\n",
       "       'Activités des agences de travail temporaire',\n",
       "       'Mécanique industrielle',\n",
       "       'Entretien et réparation de véhicules automobiles légers',\n",
       "       'Construction de navires et de structures flottantes',\n",
       "       'Commerce de gros (commerce interentreprises) de quincailleri',\n",
       "       \"Commerce de gros (commerce interentreprises) d'autres machin\",\n",
       "       'Production de boissons alcooliques distillées',\n",
       "       'Activités des sièges sociaux',\n",
       "       'Activités combinées de soutien lié aux bâtiments',\n",
       "       \"Fabrication d'autres produits chimiques n.c.a.\",\n",
       "       'Autres intermédiations monétaires',\n",
       "       'Location et location-bail de camions',\n",
       "       'Commerce de détail de la chaussure', 'Activités juridiques',\n",
       "       'Autres organisations fonctionnant par adhésion volontaire',\n",
       "       \"Fabrication de sièges d'ameublement d'intérieur\",\n",
       "       'Blanchisserie-teinturerie de détail',\n",
       "       \"Gestion d'installations sportives\",\n",
       "       'Réparation de machines et équipements mécaniques',\n",
       "       'Fabrication de matériel médico-chirurgical et dentaire',\n",
       "       'Photocopie, préparation de documents et autres activités spé',\n",
       "       'Reproduction de plantes', 'Traitement et revêtement des métaux',\n",
       "       'Commerce de gros (commerce interentreprises) de parfumerie e',\n",
       "       'Autres services de restauration n.c.a.',\n",
       "       'Commerce et réparation de motocycles',\n",
       "       'Nettoyage courant des bâtiments', 'Restauration traditionnelle',\n",
       "       'Accueil ou accompagnement sans hébergement d\\x92enfants handica',\n",
       "       'Boulangerie et boulangerie-pâtisserie',\n",
       "       'Vente à distance sur catalogue général',\n",
       "       'Forge, estampage, matriçage; métallurgie des poudres',\n",
       "       'Fabrication de plats préparés',\n",
       "       \"Fabrication d'autres pompes et compresseurs\",\n",
       "       \"Fabrication d'équipements hydrauliques et pneumatiques\",\n",
       "       'Commerce de détail de fleurs, plantes, graines, engrais, ani',\n",
       "       \"Location et location-bail d'autres biens personnels et domes\",\n",
       "       'Transformation et conservation de poisson, de crustacés et d',\n",
       "       \"Commerce de gros d'équipements automobiles\",\n",
       "       'Culture et élevage associés', 'Aide à domicile',\n",
       "       'Activités de conditionnement',\n",
       "       \"Fabrication d'équipements aérauliques et frigorifiques indus\",\n",
       "       'Culture de légumes, de melons, de racines et de tubercules',\n",
       "       \"Commerce de gros (commerce interentreprises) d'appareils san\",\n",
       "       'Terrains de camping et parcs pour caravanes ou véhicules de',\n",
       "       'Enseignement culturel',\n",
       "       'Fabrication de moteurs, génératrices et transformateurs élec',\n",
       "       'Activités de soutien aux cultures',\n",
       "       'Autre mise à disposition de ressources humaines',\n",
       "       'Commerce de gros (commerce interentreprises) de produits pha',\n",
       "       'Fabrication de matériel de distribution et de commande élect',\n",
       "       \"Travaux d'installation d'eau et de gaz en tous locaux\",\n",
       "       'Fabrication de peintures, vernis, encres et mastics',\n",
       "       'Analyses, essais et inspections techniques',\n",
       "       'Travaux de peinture et vitrerie',\n",
       "       'Commerce de détail de boissons en magasin spécialisé',\n",
       "       \"Culture de céréales (à l'exception du riz), de légumineuses\",\n",
       "       'Autres intermédiaires du commerce en produits divers',\n",
       "       'Services des traiteurs', 'Autres assurances',\n",
       "       'Services administratifs combinés de bureau',\n",
       "       'Conseil pour les affaires et autres conseils de gestion',\n",
       "       'Affrètement et organisation des transports',\n",
       "       'Fabrication de vêtements de dessus',\n",
       "       \"Commerce de détail d'équipements automobiles\",\n",
       "       \"Fonderie d'autres métaux non ferreux\",\n",
       "       'Fonds de placement et entités financières similaires',\n",
       "       \"Laboratoires d'analyses médicales\",\n",
       "       \"Activités des agents et courtiers d'assurances\",\n",
       "       'Travaux de maçonnerie générale et gros \\x9cuvre de bâtiment',\n",
       "       'Autres activités de poste et de courrier', 'Débits de boissons',\n",
       "       \"Commerce de détail de biens d'occasion en magasin\",\n",
       "       'Activités des infirmiers et des sages-femmes',\n",
       "       'Installation de structures métalliques, chaudronnées et de t',\n",
       "       'Fabrication de structures métalliques et de parties de struc',\n",
       "       'Activités de santé humaine non classées ailleurs',\n",
       "       'Accueil de jeunes enfants',\n",
       "       'Post-production de films cinématographiques, de vidéo et de',\n",
       "       'Création artistique relevant des arts plastiques',\n",
       "       \"Centrales d'achat non alimentaires\", 'Enseignement de la conduite',\n",
       "       'Activités comptables',\n",
       "       'Organisation de foires, salons professionnels et congrès',\n",
       "       'Traduction et interprétation', 'Gestion de fonds',\n",
       "       'Conseil en systèmes et logiciels informatiques',\n",
       "       'Arts du spectacle vivant',\n",
       "       'Fabrication de condiments et assaisonnements',\n",
       "       'Accueil ou accompagnement sans hébergement d\\x92adultes handica',\n",
       "       \"Fabrication d'autres textiles techniques et industriels\",\n",
       "       'Préparation industrielle de produits à base de viande',\n",
       "       'Assurance vie', 'Travaux de couverture par éléments',\n",
       "       \"Travaux d'installation électrique dans tous locaux\",\n",
       "       'Contrôle technique automobile',\n",
       "       \"Autres travaux d'installation n.c.a.\",\n",
       "       'Commerce de gros (commerce interentreprises) de matériel agr',\n",
       "       \"Activités d'architecture\",\n",
       "       'Commerce de gros (commerce interentreprises) de produits chi',\n",
       "       'Construction de bateaux de plaisance',\n",
       "       \"Commerce de gros (commerce interentreprises) d'autres biens\",\n",
       "       'Coiffure', 'Fabrication de chaussures',\n",
       "       'Activités spécialisées, scientifiques et techniques diverses',\n",
       "       'Culture de la vigne',\n",
       "       'Autres intermédiaires du commerce en combustibles, métaux, m',\n",
       "       'Enseignement pré-primaire',\n",
       "       'Commerce de gros (commerce interentreprises) de minerais et',\n",
       "       'Activités de sécurité privée',\n",
       "       \"Production et distribution de vapeur et d'air conditionné\",\n",
       "       'Fabrication de cartonnages', \"Fabrication d'emballages en bois\",\n",
       "       \"Services d'aménagement paysager\",\n",
       "       \"Fabrication d'instruments de musique\", 'Pratique dentaire',\n",
       "       'Fabrication d\\x92autres meubles et industries connexes de l\\x92ame',\n",
       "       'Sciage et rabotage du bois, hors imprégnation', 'Supérettes',\n",
       "       'Activités des agences de presse',\n",
       "       \"Réparation d'autres équipements\",\n",
       "       'Fabrication d\\x92articles de brosserie', 'Élevage de volailles',\n",
       "       'Construction de réseaux électriques et de télécommunications',\n",
       "       \"Fabrication d'autres produits chimiques inorganiques de base\",\n",
       "       \"Fabrication d'équipements de communication\",\n",
       "       'Blanchisserie-teinturerie de gros',\n",
       "       'Ingénierie, études techniques',\n",
       "       'Commerce de gros (commerce interentreprises) de bois et de m',\n",
       "       'Commerce de gros (commerce interentreprises) de machines pou',\n",
       "       'Activité des médecins généralistes',\n",
       "       'Travaux de menuiserie métallique et serrurerie',\n",
       "       'Travaux de menuiserie bois et PVC',\n",
       "       'Fabrication de machines agricoles et forestières',\n",
       "       'Activités vétérinaires',\n",
       "       \"Intermédiaires spécialisés dans le commerce d'autres produit\",\n",
       "       'Fabrication industrielle de pain et de pâtisserie fraîche',\n",
       "       'Fabrication de lunettes', 'Gestion des retraites complémentaires',\n",
       "       'Hypermarchés',\n",
       "       \"Commerce de détail d'appareils électroménagers en magasin sp\",\n",
       "       \"Promotion immobilière d'autres bâtiments\",\n",
       "       'Conseil en relations publiques et communication',\n",
       "       'Commerce de détail de matériels audio et vidéo en magasin sp',\n",
       "       'Autres activités de soutien aux entreprises n.c.a.',\n",
       "       'Gestion des sites et monuments historiques et des attraction',\n",
       "       \"Fabrication d'appareils d'éclairage électrique\", 'Supermarchés',\n",
       "       'Fabrication de produits de consommation courante en matières',\n",
       "       'Fabrication de matériel de levage et de manutention',\n",
       "       'Autres commerces de détail alimentaires en magasin spécialis',\n",
       "       'Édition de journaux', 'Activités des agences de voyage',\n",
       "       \"Activités des parcs d'attractions et parcs à thèmes\",\n",
       "       'Autre distribution de crédit',\n",
       "       'Autres activités récréatives et de loisirs',\n",
       "       'Activités des professionnels de la rééducation, de l\\x92apparei',\n",
       "       'Commerce de détail de pain, pâtisserie et confiserie en maga',\n",
       "       \"Commerce d'alimentation générale\", 'Étirage à froid de barres',\n",
       "       \"Fabrication d'équipements d'irradiation médicale, d'équipeme\",\n",
       "       'Autres travaux de finition',\n",
       "       \"Fabrication de charpentes et d'autres menuiseries\", 'Charcuterie',\n",
       "       'Activités de clubs de sports',\n",
       "       'Commerce de gros (commerce interentreprises) de textiles',\n",
       "       'Fabrication de moules et modèles',\n",
       "       'Collecte des déchets non dangereux',\n",
       "       'Commerce de détail de quincaillerie, peintures et verres en',\n",
       "       'Fabrication de vêtements de dessous',\n",
       "       'Fabrication de papier et de carton',\n",
       "       \"Élevage d'autres bovins et de buffles\",\n",
       "       'Commerce de gros (commerce interentreprises) de boissons',\n",
       "       'Commerce de gros (commerce interentreprises) non spécialisé',\n",
       "       'Activités photographiques',\n",
       "       \"Commerce de détail d'autres équipements du foyer\",\n",
       "       'Location de courte durée de voitures et de véhicules automob',\n",
       "       \"Métallurgie du plomb, du zinc ou de l'étain\",\n",
       "       'Transports routiers réguliers de voyageurs',\n",
       "       'Commerce de détail de produits à base de tabac en magasin sp',\n",
       "       \"En cours d'attribution\",\n",
       "       'Commerce de détail de journaux et de papeterie en magasin sp',\n",
       "       'Vente à domicile',\n",
       "       \"Enseignement de disciplines sportives et d'activités de lois\",\n",
       "       'Promotion immobilière de bureaux',\n",
       "       'Transports routiers de fret de proximité',\n",
       "       'Transports de voyageurs par taxis',\n",
       "       'Hébergement social pour toxicomanes',\n",
       "       \"Fabrication d'huiles et graisses brutes\",\n",
       "       \"Commerces de détail d'optique\",\n",
       "       'Fabrication d\\x92articles de bijouterie fantaisie et articles s',\n",
       "       'Récupération de déchets triés',\n",
       "       'Construction aéronautique et spatiale',\n",
       "       'Construction de véhicules automobiles',\n",
       "       'Fabrication de plaques, feuilles, tubes et profilés en matiè',\n",
       "       \"Commerce de détail de maroquinerie et d'articles de voyage\",\n",
       "       'Hébergement social pour personnes âgées',\n",
       "       'Autres services de réservation et activités connexes',\n",
       "       'Activités des organisations professionnelles',\n",
       "       \"Commerce de détail d'articles de sport en magasin spécialisé\",\n",
       "       'Autres activités des médecins spécialistes',\n",
       "       'Programmation informatique',\n",
       "       \"Organisation de jeux de hasard et d'argent\",\n",
       "       'Travaux de revêtement des sols et des murs',\n",
       "       'Fabrication de préparations pharmaceutiques',\n",
       "       'Fabrication de portes et fenêtres en métal',\n",
       "       'Transformation et conservation de la viande de boucherie',\n",
       "       'Commerce de gros (commerce interentreprises) de produits à b',\n",
       "       'Commerce de détail alimentaire sur éventaires et marchés',\n",
       "       'Activités des organisations patronales et consulaires',\n",
       "       'Télécommunications filaires', 'Services de déménagement',\n",
       "       'Construction de réseaux pour fluides',\n",
       "       'Activités de soutien au spectacle vivant', 'Services funéraires',\n",
       "       'Activités de pré-presse',\n",
       "       \"Fabrication d'éléments en béton pour la construction\",\n",
       "       'Commerce de gros (commerce interentreprises) alimentaire spé',\n",
       "       'Élevage de vaches laitières',\n",
       "       \"Fabrication d'autres textiles n.c.a.\", 'Vinification',\n",
       "       'Régie publicitaire de médias',\n",
       "       'Fabrication de cacao, chocolat et de produits de confiserie',\n",
       "       'Activités générales de sécurité sociale',\n",
       "       'Activités spécialisées de design',\n",
       "       \"Fabrication d'autres machines d'usage général\",\n",
       "       'Production de films institutionnels et publicitaires',\n",
       "       'Restauration de type rapide',\n",
       "       \"Fabrication d'autre articles métalliques\",\n",
       "       \"Fabrication d'aliments homogénéisés et diététiques\",\n",
       "       \"Fabrication d'ordinateurs et d'équipements périphériques\",\n",
       "       \"Fabrication d'emballages en matières plastiques\",\n",
       "       'Activités des voyagistes', 'Décolletage',\n",
       "       'Sylviculture et autres activités forestières',\n",
       "       'Commerce de détail de livres en magasin spécialisé',\n",
       "       'Façonnage et transformation du verre plat',\n",
       "       'Administration publique générale',\n",
       "       \"Travaux d'installation électrique sur la voie publique\",\n",
       "       'Autres activités manufacturières n.c.a.',\n",
       "       'Fabrication de pièces techniques à base de matières plastiqu',\n",
       "       'Fabrication de carton ondulé',\n",
       "       \"Location et location-bail d'autres machines, équipements et\",\n",
       "       'Fabrication de fours et brûleurs',\n",
       "       'Activités des centres de culture physique',\n",
       "       \"Commerce d'autres véhicules automobiles\",\n",
       "       \"Fabrication d'autres machines-outils\",\n",
       "       'Administration publique (tutelle) des activités économiques',\n",
       "       'Autres services personnels n.c.a.', 'Agencement de lieux de vente',\n",
       "       'Autres commerces de détail en magasin non spécialisé',\n",
       "       \"Fabrication d'autres outillages\",\n",
       "       'Restauration collective sous contrat',\n",
       "       'Commerce de gros (commerce interentreprises) alimentaire non',\n",
       "       'Fabrication de machines pour les industries du papier et du',\n",
       "       'Fabrication de vins effervescents',\n",
       "       'Fabrication de machines-outils pour le travail des métaux',\n",
       "       \"Fabrication de machines pour l'industrie agro-alimentaire\",\n",
       "       'Autres travaux spécialisés de construction',\n",
       "       'Manutention non portuaire', 'Transports aériens de passagers',\n",
       "       \"Réparation d'ouvrages en métaux\", 'Soins de beauté',\n",
       "       \"Fabrication d'autres ouvrages en béton, en ciment ou en plât\",\n",
       "       'Gestion de salles de spectacles', \"Démantèlement d'épaves\",\n",
       "       'Édition de revues et périodiques',\n",
       "       \"Fabrication d'autres produits chimiques organiques de base\",\n",
       "       \"Fabrication d'articles en papier à usage sanitaire ou domest\",\n",
       "       'Autres commerces de détail sur éventaires et marchés',\n",
       "       'Location avec opérateur de matériel de construction',\n",
       "       'Projection de films cinématographiques',\n",
       "       \"Fabrication d'autres articles de robinetterie\",\n",
       "       'Installation de machines et équipements mécaniques',\n",
       "       'Commerce de gros (commerce interentreprises) de meubles, de',\n",
       "       \"Construction d'autres bâtiments\",\n",
       "       'Autres intermédiaires du commerce en denrées, boissons et ta',\n",
       "       'Fabrication de biscuits, biscottes et pâtisseries de conserv',\n",
       "       \"Fabrication d'objets divers en bois ; fabrication d'objets e\",\n",
       "       \"Fabrication d'huiles essentielles\",\n",
       "       'Exploitation de gravières et sablières, extraction d\\x92argiles',\n",
       "       'Commerce de gros (commerce interentreprises) de composants e',\n",
       "       'Fabrication de verre creux',\n",
       "       'Transformation et conservation de pommes de terre',\n",
       "       'Fabrication de colles', 'Meunerie',\n",
       "       'Métallurgie des autres métaux non ferreux',\n",
       "       'Transports aériens de fret',\n",
       "       'Autres activités de nettoyage des bâtiments et nettoyage ind',\n",
       "       'Autres activités du travail des grains',\n",
       "       \"Conception d'ensemble et assemblage sur site industriel d'éq\",\n",
       "       \"Centrales d'achat alimentaires\", 'Reliure et activités connexes',\n",
       "       'Activités de radiodiagnostic et de radiothérapie',\n",
       "       'Entretien corporel', 'Préparation de jus de fruits et légumes',\n",
       "       'Travaux de plâtrerie', \"Fabrication d'articles de sport\",\n",
       "       'Fabrication de fromage',\n",
       "       \"Fabrication d'appareils ménagers non électriques\",\n",
       "       'Taille, façonnage et finissage de pierres',\n",
       "       'Ennoblissement textile',\n",
       "       \"Fabrication de machines pour l'extraction ou la construction\",\n",
       "       'Commerce de gros (commerce interentreprises) de machines-out',\n",
       "       \"Réparation d'ordinateurs et d'équipements périphériques\",\n",
       "       'Fabrication de vêtements de travail',\n",
       "       \"Fabrication d'isolateurs et pièces isolantes en céramique\",\n",
       "       'Autres activités de nettoyage n.c.a.',\n",
       "       \"Réparation d'équipements électriques\", 'Métallurgie du cuivre',\n",
       "       'Construction de routes et autoroutes',\n",
       "       \"Commerce de gros (commerce interentreprises) d'autres produi\",\n",
       "       'Fabrication de lait liquide et de produits frais',\n",
       "       'Fabrication de cartes électroniques assemblées', 'Ambulances',\n",
       "       \"Réparation et maintenance d'autres équipements de transport\",\n",
       "       \"Fabrication d'autres réservoirs, citernes et conteneurs méta\",\n",
       "       \"Commerce de gros (commerce interentreprises) d'articles d'ho\",\n",
       "       \"Fabrication de machines d'imprimerie\",\n",
       "       'Recherche-développement en biotechnologie',\n",
       "       \"Construction de locomotives et d'autre matériel ferroviaire\",\n",
       "       'Services auxiliaires des transports aériens',\n",
       "       'Commerce de détail de textiles en magasin spécialisé',\n",
       "       'Raffinage du pétrole',\n",
       "       \"Réparation et maintenance d'aéronefs et d'engins spatiaux\",\n",
       "       'Pâtisserie', 'Fabrication de pâtes alimentaires',\n",
       "       'Fabrication de colorants et de pigments',\n",
       "       'Commerce de détail de jeux et jouets en magasin spécialisé',\n",
       "       \"Fabrication d'autres articles en papier ou en carton\",\n",
       "       'Réparation et maintenance navale',\n",
       "       'Commerce de détail de tapis, moquettes et revêtements de mur',\n",
       "       \"Fabrication de béton prêt à l'emploi\",\n",
       "       \"Fabrication d'autres machines spécialisées\",\n",
       "       \"Fabrication d'articles chaussants à mailles\",\n",
       "       'Commerce de gros (commerce interentreprises) de poissons, cr',\n",
       "       'Transformation et conservation de la viande de volaille',\n",
       "       'Entreposage et stockage frigorifique',\n",
       "       'Cafétérias et autres libres-services',\n",
       "       'Edition de logiciels applicatifs',\n",
       "       \"Fabrication d'autres matériels électriques\",\n",
       "       'Fabrication de mortiers et bétons secs',\n",
       "       'Autres transports routiers de voyageurs', 'Grands magasins',\n",
       "       \"Fabrication d'autres articles en caoutchouc\",\n",
       "       'Commerce de gros (commerce interentreprises) de combustibles',\n",
       "       'Commerce de gros (commerce interentreprises) de mobilier de',\n",
       "       'Édition et diffusion de programmes radio',\n",
       "       'Traitement de données, hébergement et activités connexes',\n",
       "       'Travaux de montage de structures métalliques',\n",
       "       \"Fabrication d'articles de voyage, de maroquinerie et de sell\",\n",
       "       'Édition de livres',\n",
       "       \"Fabrication d'engrenages et d'organes mécaniques de transmis\",\n",
       "       \"Fabrication d'emballages métalliques légers\",\n",
       "       'Services auxiliaires des transports terrestres',\n",
       "       'Autres activités liées au sport',\n",
       "       \"Fabrication de piles et d'accumulateurs électriques\",\n",
       "       'Transformation et conservation de fruits',\n",
       "       'Commerce de gros (commerce interentreprises) de vaisselle, v',\n",
       "       'Fabrication de matières plastiques de base',\n",
       "       'Traitement et élimination des déchets non dangereux',\n",
       "       \"Fabrication d'autres fils et câbles électroniques ou électri\",\n",
       "       \"Fonderie d'acier\",\n",
       "       \"Fabrication de savons, détergents et produits d'entretien\",\n",
       "       \"Fabrication d'équipements d'emballage, de conditionnement et\",\n",
       "       \"Installation d'équipements électriques, de matériels électro\",\n",
       "       'Commerce de détail de parfumerie et de produits de beauté en',\n",
       "       'Autres activités auxiliaires de services financiers, hors as',\n",
       "       \"Commerce de gros (commerce interentreprises) d'appareils éle\",\n",
       "       'Cuisson de produits de boulangerie',\n",
       "       'Fabrication de machines pour la métallurgie',\n",
       "       \"Fabrication d'autres produits minéraux non métalliques n.c.a\",\n",
       "       'Fabrication de produits électroniques grand public',\n",
       "       'Commerce de gros (commerce interentreprises) de fruits et lé',\n",
       "       'Tréfilage à froid', \"Fabrication d'appareils électroménagers\",\n",
       "       \"Fabrication d'aliments pour animaux de compagnie\", 'Sidérurgie',\n",
       "       'Messagerie, fret express', 'Fabrication de vis et de boulons',\n",
       "       \"Fabrication de moteurs et turbines, à l'exception des moteur\",\n",
       "       \"Culture d'autres fruits d'arbres ou d'arbustes et de fruits\",\n",
       "       'Manutention portuaire', 'Autres activités de télécommunication',\n",
       "       'Production de films et de programmes pour la télévision',\n",
       "       \"Fabrication d'articles en fils métalliques, de chaînes et de\",\n",
       "       \"Fabrication d'autres articles à mailles\",\n",
       "       \"Fabrication d'équipements électriques et électroniques autom\",\n",
       "       'Fabrication de carreaux en céramique',\n",
       "       \"Fabrication d'articles métalliques ménagers\",\n",
       "       \"Réparation d'équipements de communication\",\n",
       "       'Fabrication de briques, tuiles et produits de construction,',\n",
       "       'Fabrication de glaces et sorbets',\n",
       "       'Fabrication de machines pour les industries textiles',\n",
       "       'Réparation de matériels électroniques et optiques',\n",
       "       'Intermédiaires du commerce en bois et matériaux de construct',\n",
       "       \"Réparation d'autres biens personnels et domestiques\",\n",
       "       'Production de films pour le cinéma', \"Travaux d'isolation\",\n",
       "       \"Réparation d'appareils électroménagers et d'équipements pour\",\n",
       "       'Fabrication de produits pharmaceutiques de base',\n",
       "       'Travaux de terrassement spécialisés ou de grande masse',\n",
       "       'Collecte des déchets dangereux',\n",
       "       \"Commerce de détail d'articles médicaux et orthopédiques en m\",\n",
       "       \"Reproduction d'enregistrements\",\n",
       "       'Location de longue durée de voitures et de véhicules automob',\n",
       "       'Gestion des jardins botaniques et zoologiques et des réserve',\n",
       "       'Tierce maintenance de systèmes et d\\x92applications informatiqu',\n",
       "       'Fabrication de pesticides et d\\x92autres produits agrochimiques',\n",
       "       'Élevage de porcins', 'Fabrication de produits abrasifs', 'Tissage',\n",
       "       'Dépollution et autres services de gestion des déchets',\n",
       "       'Aquaculture en mer', 'Location de camions avec chauffeur',\n",
       "       'Construction de voies ferrées de surface et souterraines',\n",
       "       'Profilage à froid par formage ou pliage', 'Fonderie de fonte',\n",
       "       'Fabrication de composants électroniques',\n",
       "       'Transports urbains et suburbains de voyageurs',\n",
       "       \"Activités de soutien à l'enseignement\",\n",
       "       \"Fabrication et façonnage d'autres articles en verre, y compr\",\n",
       "       \"Fabrication d'autres vêtements et accessoires\",\n",
       "       'Commerce de gros (commerce interentreprises) de produits lai',\n",
       "       'Autres cultures permanentes',\n",
       "       'Vente par automates et autres commerces de détail hors magas',\n",
       "       \"Fabrication d'équipements d'aide à la navigation\",\n",
       "       \"Production d'électricité\", 'Gestion des musées',\n",
       "       'Travaux de terrassement courants et travaux préparatoires',\n",
       "       \"Fabrication d'articles céramiques à usage domestique ou orne\",\n",
       "       'Commerce de gros (commerce interentreprises) de viandes de b',\n",
       "       \"Gestion d'installations informatiques\",\n",
       "       \"Autres activités d'édition\", 'Crédit-bail',\n",
       "       \"Fabrication d'éléments en plâtre pour la construction\",\n",
       "       'Commerce de détail de viandes et de produits à base de viand',\n",
       "       'Études de marché et sondages',\n",
       "       'Commerce de gros (commerce interentreprises) de café, thé, c',\n",
       "       'Commerce de combustibles gazeux par conduites',\n",
       "       \"Élevage d'ovins et de caprins\",\n",
       "       'Activités des organisations politiques',\n",
       "       'Commerce de gros (commerce interentreprises) de déchets et d',\n",
       "       'Culture de fruits à pépins et à noyau'], dtype=object)"
      ]
     },
     "execution_count": 33,
     "metadata": {},
     "output_type": "execute_result"
    }
   ],
   "source": [
    "df_train.libelle_naf.unique()"
   ]
  },
  {
   "cell_type": "code",
   "execution_count": 34,
   "metadata": {
    "collapsed": false
   },
   "outputs": [
    {
     "data": {
      "text/plain": [
       "array(['Services marchands divers (hors santé et enseignement)', nan,\n",
       "       'Enseignement', 'Santé', 'Commerce', 'Hébergement et restauration',\n",
       "       'Administrations et services non marchands',\n",
       "       'Fonderie, travail des métaux et première transformation de l',\n",
       "       \"Industrie textile, du cuir et de l'habillement\",\n",
       "       'Industries diverses',\n",
       "       \"Construction de véhicules automobiles et d'autres matériels\",\n",
       "       'Industries alimentaires, hors industrie du lait et du sucre',\n",
       "       'Construction mécanique',\n",
       "       'Transports routiers, urbains, par conduite',\n",
       "       'Bâtiment et génie civil', 'Agriculture, sylviculture',\n",
       "       'Fabrication de produits en plastique',\n",
       "       'Parachimie et industrie pharmaceutique',\n",
       "       'Construction navale et aéronautique,armement',\n",
       "       'Autres industries de la chimie organique de base',\n",
       "       'Construction électrique et électronique',\n",
       "       'Télécommunications et postes', 'Chauffage urbain',\n",
       "       'Industrie du papier et du carton',\n",
       "       'Autres industries de la chimie minérale',\n",
       "       'Assainissement, gestion des déchets et dépollution',\n",
       "       'Métallurgie et première transformation des métaux non ferreu',\n",
       "       \"Production d'autres matériaux de construction et decéramique\",\n",
       "       'Industrie du verre', 'Transports aériens', 'Industrie laitière',\n",
       "       'Raffinage de pétrole', 'Fabrication de produits en caoutchouc',\n",
       "       'Fabrication de matières plastiques, de caoutchouc  synthétiq',\n",
       "       'Sidérurgie', 'Pêche',\n",
       "       \"Production, transport et distribution d'électricité\",\n",
       "       'Fabrication de plâtres, produits en plâtre, chaux et ciments',\n",
       "       'Production et distribution de gaz'], dtype=object)"
      ]
     },
     "execution_count": 34,
     "metadata": {},
     "output_type": "execute_result"
    }
   ],
   "source": [
    "df_train.activite_nce.unique()"
   ]
  },
  {
   "cell_type": "code",
   "execution_count": 35,
   "metadata": {
    "collapsed": false
   },
   "outputs": [
    {
     "data": {
      "text/plain": [
       "array([ 13.96438356,  14.92054795,          nan, ...,   1.83835616,\n",
       "         1.66575342,   1.63561644])"
      ]
     },
     "execution_count": 35,
     "metadata": {},
     "output_type": "execute_result"
    }
   ],
   "source": [
    "df_train.anciennete_client.unique()"
   ]
  },
  {
   "cell_type": "code",
   "execution_count": 36,
   "metadata": {
    "collapsed": false
   },
   "outputs": [
    {
     "data": {
      "text/plain": [
       "array(['Bassin Urbain', 'Bassin Industriel', 'Bassin Résidentiel',\n",
       "       'Bassins Agroalimentaire', nan, 'Bassin diversifié'], dtype=object)"
      ]
     },
     "execution_count": 36,
     "metadata": {},
     "output_type": "execute_result"
    }
   ],
   "source": [
    "df_train.orientation_economique.unique()"
   ]
  },
  {
   "cell_type": "code",
   "execution_count": 37,
   "metadata": {
    "collapsed": false
   },
   "outputs": [
    {
     "data": {
      "text/plain": [
       "array([ 9751.,  1700.,  2912., ...,   585.,    51.,  1684.])"
      ]
     },
     "execution_count": 37,
     "metadata": {},
     "output_type": "execute_result"
    }
   ],
   "source": [
    "df_train.population.unique()"
   ]
  },
  {
   "cell_type": "code",
   "execution_count": 38,
   "metadata": {
    "collapsed": false
   },
   "outputs": [
    {
     "data": {
      "text/plain": [
       "array([ 0.07,  0.06,  0.02,  0.05,  0.03,  0.04,  0.  , -0.1 ,  0.09,\n",
       "       -0.02, -0.03,   nan,  0.12,  0.14,  0.08,  0.11, -0.01,  0.01,\n",
       "       -0.07,  0.13, -0.06, -0.05, -0.04,  0.1 , -0.17, -0.09, -0.08,\n",
       "       -0.14,  0.15,  0.17, -0.23, -0.11, -0.2 , -0.27, -0.18,  0.16,\n",
       "       -0.13, -0.12, -0.25, -0.16, -0.15])"
      ]
     },
     "execution_count": 38,
     "metadata": {},
     "output_type": "execute_result"
    }
   ],
   "source": [
    "df_train.evolution_pop_percent.unique()"
   ]
  },
  {
   "cell_type": "code",
   "execution_count": 39,
   "metadata": {
    "collapsed": false
   },
   "outputs": [
    {
     "data": {
      "text/plain": [
       "array([ 1693.,   430.,   852., ...,   104.,   252.,    16.])"
      ]
     },
     "execution_count": 39,
     "metadata": {},
     "output_type": "execute_result"
    }
   ],
   "source": [
    "df_train.nb_proprietaire.unique()"
   ]
  },
  {
   "cell_type": "code",
   "execution_count": 40,
   "metadata": {
    "collapsed": false
   },
   "outputs": [
    {
     "data": {
      "text/plain": [
       "array([ 4574.,   623.,  1222., ...,  1741.,  1122.,    40.])"
      ]
     },
     "execution_count": 40,
     "metadata": {},
     "output_type": "execute_result"
    }
   ],
   "source": [
    "df_train.nb_logement.unique()"
   ]
  },
  {
   "cell_type": "code",
   "execution_count": 41,
   "metadata": {
    "collapsed": false
   },
   "outputs": [
    {
     "data": {
      "text/plain": [
       "array([ 11.17352941,  11.98142857,  11.42      ,  17.058     ,\n",
       "        10.565     ,  10.70827586,  17.8       ,  10.95526316,\n",
       "        12.3990566 ,  10.91868132,  14.44574468,  11.43409091,\n",
       "        13.08547009,  10.43333333,  11.2047619 ,  17.73142857,\n",
       "        11.03214286,  10.93636364,          nan,  11.05925926,\n",
       "        14.1787234 ,  10.4       ,  10.32903226,  12.77692308,\n",
       "        11.67959184,  13.71052632,  11.21594828,  12.47789474,\n",
       "        10.63589744,  13.19038462,  10.67096774,  10.48095238,\n",
       "        11.06885246,  10.51764706,  11.21168831,  10.81386139,\n",
       "        11.32121212,  10.2       ,  11.52068966,  10.39375   ,\n",
       "        11.76625   ,  10.23      ,  11.73950617,  11.59142857,\n",
       "        10.00441176,  10.55571429,  11.4255814 ,  11.54747475,\n",
       "        11.40441176,  11.0075    ,  10.08461538,  10.77794118,\n",
       "        10.25714286,  10.22608696,  11.7725    ,  10.11578947,\n",
       "        10.63333333,  10.85869565,  11.55416667,  10.98695652,\n",
       "        10.7       ,  10.365     ,  10.44358974,  10.96      ,\n",
       "        10.4       ,  11.082     ,  10.2075    ,  10.27058824,\n",
       "        10.94722222,  10.26451613,  10.585     ,  10.98225806,\n",
       "        10.5375    ,  11.78333333,  10.08888889,  10.80740741,\n",
       "        10.3625    ,   9.8625    ,  10.11428571,  10.24666667,\n",
       "        10.21764706,  10.43666667,  10.14      ,  10.24791667,\n",
       "        10.48      ,  10.075     ])"
      ]
     },
     "execution_count": 41,
     "metadata": {},
     "output_type": "execute_result"
    }
   ],
   "source": [
    "df_train.dep_moyenne_salaires_horaires.unique()"
   ]
  },
  {
   "cell_type": "code",
   "execution_count": 42,
   "metadata": {
    "collapsed": false
   },
   "outputs": [
    {
     "data": {
      "text/plain": [
       "array(['Com > 200 m habts', 'Com < 10 m habts', 'Com < 50 m habts',\n",
       "       'Com < 200 m habts', 'Com rurale < 2 000 m habts', nan,\n",
       "       'Com rurale > 2 000 habts'], dtype=object)"
      ]
     },
     "execution_count": 42,
     "metadata": {},
     "output_type": "execute_result"
    }
   ],
   "source": [
    "df_train.urbanite_ruralite.unique()"
   ]
  },
  {
   "cell_type": "code",
   "execution_count": 43,
   "metadata": {
    "collapsed": false
   },
   "outputs": [
    {
     "data": {
      "text/plain": [
       "array([ 3642.,   745.,  1413., ...,   262.,  1801.,    25.])"
      ]
     },
     "execution_count": 43,
     "metadata": {},
     "output_type": "execute_result"
    }
   ],
   "source": [
    "df_train.nb_atifs.unique()"
   ]
  },
  {
   "cell_type": "code",
   "execution_count": 44,
   "metadata": {
    "collapsed": false
   },
   "outputs": [
    {
     "data": {
      "text/plain": [
       "array(['Grande Ville',\n",
       "       '1.Accroissement par excédent naturel et migratoire',\n",
       "       '3.Accroissement par excédent migratoire', nan,\n",
       "       '6.Déclin par déficit migratoire',\n",
       "       '2.Accroissement par excédent naturel',\n",
       "       '4.Déclin par déficit naturel et migratoire',\n",
       "       '5.Déclin par déficit naturel'], dtype=object)"
      ]
     },
     "execution_count": 44,
     "metadata": {},
     "output_type": "execute_result"
    }
   ],
   "source": [
    "df_train.dynamique_demographique_bv.unique()"
   ]
  },
  {
   "cell_type": "code",
   "execution_count": 45,
   "metadata": {
    "collapsed": false
   },
   "outputs": [
    {
     "data": {
      "text/plain": [
       "array(['Bassin Urbain en croissance démographique',\n",
       "       'Bassin Industriel en croissance démographique',\n",
       "       'Bassin Résidentiel en croissance démographique',\n",
       "       'Bassins Agroalimentaire en croissance démographique', nan,\n",
       "       'Bassin diversifié en croissance démographique'], dtype=object)"
      ]
     },
     "execution_count": 45,
     "metadata": {},
     "output_type": "execute_result"
    }
   ],
   "source": [
    "df_train.environnement_demographique.unique()"
   ]
  },
  {
   "cell_type": "code",
   "execution_count": 46,
   "metadata": {
    "collapsed": false
   },
   "outputs": [
    {
     "data": {
      "text/plain": [
       "array(['Dynamique Economique', 'Faible dynamique', nan, 'Moyenne dynamique'], dtype=object)"
      ]
     },
     "execution_count": 46,
     "metadata": {},
     "output_type": "execute_result"
    }
   ],
   "source": [
    "df_train.seg_dyn_entre.unique()"
   ]
  },
  {
   "cell_type": "code",
   "execution_count": 47,
   "metadata": {
    "collapsed": false
   },
   "outputs": [
    {
     "data": {
      "text/html": [
       "<div>\n",
       "<table border=\"1\" class=\"dataframe\">\n",
       "  <thead>\n",
       "    <tr style=\"text-align: right;\">\n",
       "      <th></th>\n",
       "      <th>count</th>\n",
       "      <th>unique</th>\n",
       "      <th>top</th>\n",
       "      <th>freq</th>\n",
       "    </tr>\n",
       "  </thead>\n",
       "  <tbody>\n",
       "    <tr>\n",
       "      <th>produit</th>\n",
       "      <td>356669</td>\n",
       "      <td>2</td>\n",
       "      <td>Elec</td>\n",
       "      <td>307470</td>\n",
       "    </tr>\n",
       "    <tr>\n",
       "      <th>type_d_offre</th>\n",
       "      <td>356669</td>\n",
       "      <td>2</td>\n",
       "      <td>Grille de prix</td>\n",
       "      <td>321391</td>\n",
       "    </tr>\n",
       "    <tr>\n",
       "      <th>type_de_prix</th>\n",
       "      <td>356101</td>\n",
       "      <td>14</td>\n",
       "      <td>MAITRIZ' 100% fixe</td>\n",
       "      <td>192627</td>\n",
       "    </tr>\n",
       "    <tr>\n",
       "      <th>canal_de_vente</th>\n",
       "      <td>356669</td>\n",
       "      <td>2</td>\n",
       "      <td>Vente physique</td>\n",
       "      <td>234361</td>\n",
       "    </tr>\n",
       "    <tr>\n",
       "      <th>zone</th>\n",
       "      <td>49159</td>\n",
       "      <td>3</td>\n",
       "      <td>ZONE NORD</td>\n",
       "      <td>30408</td>\n",
       "    </tr>\n",
       "    <tr>\n",
       "      <th>marche_de_la_sc</th>\n",
       "      <td>356669</td>\n",
       "      <td>3</td>\n",
       "      <td>RESIDENTIEL PRIVE</td>\n",
       "      <td>301178</td>\n",
       "    </tr>\n",
       "    <tr>\n",
       "      <th>segment_societe_contractante</th>\n",
       "      <td>356669</td>\n",
       "      <td>4</td>\n",
       "      <td>Résidentiel privé</td>\n",
       "      <td>283644</td>\n",
       "    </tr>\n",
       "    <tr>\n",
       "      <th>entite_societe_contractante</th>\n",
       "      <td>356669</td>\n",
       "      <td>5</td>\n",
       "      <td>Entreprises &amp; territoires vente et multicanal</td>\n",
       "      <td>121847</td>\n",
       "    </tr>\n",
       "    <tr>\n",
       "      <th>profil_prm</th>\n",
       "      <td>349087</td>\n",
       "      <td>15</td>\n",
       "      <td>BT &lt; 36 - simple (Simple)</td>\n",
       "      <td>284314</td>\n",
       "    </tr>\n",
       "    <tr>\n",
       "      <th>couleur_tarif_elec</th>\n",
       "      <td>302402</td>\n",
       "      <td>3</td>\n",
       "      <td>Bleu</td>\n",
       "      <td>300355</td>\n",
       "    </tr>\n",
       "    <tr>\n",
       "      <th>type_client</th>\n",
       "      <td>288511</td>\n",
       "      <td>3</td>\n",
       "      <td>dual</td>\n",
       "      <td>224594</td>\n",
       "    </tr>\n",
       "    <tr>\n",
       "      <th>libelle_naf</th>\n",
       "      <td>288285</td>\n",
       "      <td>523</td>\n",
       "      <td>Administration d'immeubles et autres biens imm...</td>\n",
       "      <td>188267</td>\n",
       "    </tr>\n",
       "    <tr>\n",
       "      <th>activite_nce</th>\n",
       "      <td>288272</td>\n",
       "      <td>38</td>\n",
       "      <td>Services marchands divers (hors santé et ensei...</td>\n",
       "      <td>268479</td>\n",
       "    </tr>\n",
       "    <tr>\n",
       "      <th>orientation_economique</th>\n",
       "      <td>275147</td>\n",
       "      <td>5</td>\n",
       "      <td>Bassin Urbain</td>\n",
       "      <td>234123</td>\n",
       "    </tr>\n",
       "    <tr>\n",
       "      <th>urbanite_ruralite</th>\n",
       "      <td>275147</td>\n",
       "      <td>6</td>\n",
       "      <td>Com &gt; 200 m habts</td>\n",
       "      <td>153560</td>\n",
       "    </tr>\n",
       "    <tr>\n",
       "      <th>dynamique_demographique_bv</th>\n",
       "      <td>275147</td>\n",
       "      <td>7</td>\n",
       "      <td>Grande Ville</td>\n",
       "      <td>234123</td>\n",
       "    </tr>\n",
       "    <tr>\n",
       "      <th>environnement_demographique</th>\n",
       "      <td>275147</td>\n",
       "      <td>5</td>\n",
       "      <td>Bassin Urbain en croissance démographique</td>\n",
       "      <td>234123</td>\n",
       "    </tr>\n",
       "    <tr>\n",
       "      <th>seg_dyn_entre</th>\n",
       "      <td>275147</td>\n",
       "      <td>3</td>\n",
       "      <td>Dynamique Economique</td>\n",
       "      <td>264416</td>\n",
       "    </tr>\n",
       "  </tbody>\n",
       "</table>\n",
       "</div>"
      ],
      "text/plain": [
       "                               count unique  \\\n",
       "produit                       356669      2   \n",
       "type_d_offre                  356669      2   \n",
       "type_de_prix                  356101     14   \n",
       "canal_de_vente                356669      2   \n",
       "zone                           49159      3   \n",
       "marche_de_la_sc               356669      3   \n",
       "segment_societe_contractante  356669      4   \n",
       "entite_societe_contractante   356669      5   \n",
       "profil_prm                    349087     15   \n",
       "couleur_tarif_elec            302402      3   \n",
       "type_client                   288511      3   \n",
       "libelle_naf                   288285    523   \n",
       "activite_nce                  288272     38   \n",
       "orientation_economique        275147      5   \n",
       "urbanite_ruralite             275147      6   \n",
       "dynamique_demographique_bv    275147      7   \n",
       "environnement_demographique   275147      5   \n",
       "seg_dyn_entre                 275147      3   \n",
       "\n",
       "                                                                            top  \\\n",
       "produit                                                                    Elec   \n",
       "type_d_offre                                                     Grille de prix   \n",
       "type_de_prix                                                 MAITRIZ' 100% fixe   \n",
       "canal_de_vente                                                   Vente physique   \n",
       "zone                                                                  ZONE NORD   \n",
       "marche_de_la_sc                                               RESIDENTIEL PRIVE   \n",
       "segment_societe_contractante                                  Résidentiel privé   \n",
       "entite_societe_contractante       Entreprises & territoires vente et multicanal   \n",
       "profil_prm                                            BT < 36 - simple (Simple)   \n",
       "couleur_tarif_elec                                                         Bleu   \n",
       "type_client                                                                dual   \n",
       "libelle_naf                   Administration d'immeubles et autres biens imm...   \n",
       "activite_nce                  Services marchands divers (hors santé et ensei...   \n",
       "orientation_economique                                            Bassin Urbain   \n",
       "urbanite_ruralite                                             Com > 200 m habts   \n",
       "dynamique_demographique_bv                                         Grande Ville   \n",
       "environnement_demographique           Bassin Urbain en croissance démographique   \n",
       "seg_dyn_entre                                              Dynamique Economique   \n",
       "\n",
       "                                freq  \n",
       "produit                       307470  \n",
       "type_d_offre                  321391  \n",
       "type_de_prix                  192627  \n",
       "canal_de_vente                234361  \n",
       "zone                           30408  \n",
       "marche_de_la_sc               301178  \n",
       "segment_societe_contractante  283644  \n",
       "entite_societe_contractante   121847  \n",
       "profil_prm                    284314  \n",
       "couleur_tarif_elec            300355  \n",
       "type_client                   224594  \n",
       "libelle_naf                   188267  \n",
       "activite_nce                  268479  \n",
       "orientation_economique        234123  \n",
       "urbanite_ruralite             153560  \n",
       "dynamique_demographique_bv    234123  \n",
       "environnement_demographique   234123  \n",
       "seg_dyn_entre                 264416  "
      ]
     },
     "execution_count": 47,
     "metadata": {},
     "output_type": "execute_result"
    }
   ],
   "source": [
    "df_train.describe(include=[np.object, pd.Categorical]).T"
   ]
  },
  {
   "cell_type": "code",
   "execution_count": 48,
   "metadata": {
    "collapsed": true
   },
   "outputs": [],
   "source": [
    "### Merging TRAIN AND TEST for pre-processing"
   ]
  },
  {
   "cell_type": "code",
   "execution_count": 49,
   "metadata": {
    "collapsed": true
   },
   "outputs": [],
   "source": [
    "df_train['Type'] = 'Train'"
   ]
  },
  {
   "cell_type": "code",
   "execution_count": 50,
   "metadata": {
    "collapsed": true
   },
   "outputs": [],
   "source": [
    "df_test['Type'] = 'Test'"
   ]
  },
  {
   "cell_type": "code",
   "execution_count": 51,
   "metadata": {
    "collapsed": true
   },
   "outputs": [],
   "source": [
    "fullData = pd.concat([df_train,df_test],axis=0) #Combined both Train and Test Data set"
   ]
  },
  {
   "cell_type": "code",
   "execution_count": 52,
   "metadata": {
    "collapsed": false
   },
   "outputs": [
    {
     "data": {
      "text/plain": [
       "(436440, 37)"
      ]
     },
     "execution_count": 52,
     "metadata": {},
     "output_type": "execute_result"
    }
   ],
   "source": [
    "fullData.shape"
   ]
  },
  {
   "cell_type": "code",
   "execution_count": 53,
   "metadata": {
    "collapsed": true
   },
   "outputs": [],
   "source": [
    "# Treating missing values"
   ]
  },
  {
   "cell_type": "code",
   "execution_count": 54,
   "metadata": {
    "collapsed": true
   },
   "outputs": [],
   "source": [
    "fullData['type_de_prix'].fillna(\"Autre\", inplace = True)"
   ]
  },
  {
   "cell_type": "code",
   "execution_count": 55,
   "metadata": {
    "collapsed": true
   },
   "outputs": [],
   "source": [
    "fullData['zone'].fillna(\"Autre\", inplace = True)"
   ]
  },
  {
   "cell_type": "code",
   "execution_count": 56,
   "metadata": {
    "collapsed": true
   },
   "outputs": [],
   "source": [
    "fullData['profil_prm'].fillna(\"Autre\", inplace = True)"
   ]
  },
  {
   "cell_type": "code",
   "execution_count": 57,
   "metadata": {
    "collapsed": true
   },
   "outputs": [],
   "source": [
    "fullData['couleur_tarif_elec'].fillna(\"Autre\", inplace = True)"
   ]
  },
  {
   "cell_type": "code",
   "execution_count": 58,
   "metadata": {
    "collapsed": true
   },
   "outputs": [],
   "source": [
    "fullData['type_client'].fillna(\"Autre\", inplace = True)"
   ]
  },
  {
   "cell_type": "code",
   "execution_count": 59,
   "metadata": {
    "collapsed": true
   },
   "outputs": [],
   "source": [
    "fullData['libelle_naf'].fillna(\"Autre\", inplace = True)"
   ]
  },
  {
   "cell_type": "code",
   "execution_count": 60,
   "metadata": {
    "collapsed": true
   },
   "outputs": [],
   "source": [
    "fullData['activite_nce'].fillna(\"Autre\", inplace = True)"
   ]
  },
  {
   "cell_type": "code",
   "execution_count": 61,
   "metadata": {
    "collapsed": true
   },
   "outputs": [],
   "source": [
    "fullData['orientation_economique'].fillna(\"Autre\", inplace = True)"
   ]
  },
  {
   "cell_type": "code",
   "execution_count": 62,
   "metadata": {
    "collapsed": true
   },
   "outputs": [],
   "source": [
    "fullData['anciennete_client'].fillna(13.509, inplace = True)"
   ]
  },
  {
   "cell_type": "code",
   "execution_count": 63,
   "metadata": {
    "collapsed": true
   },
   "outputs": [],
   "source": [
    "fullData['prix_gaz_m3'].fillna(21.1924, inplace = True)"
   ]
  },
  {
   "cell_type": "code",
   "execution_count": 64,
   "metadata": {
    "collapsed": true
   },
   "outputs": [],
   "source": [
    "fullData['prix_elec_m3'].fillna(39.1193, inplace = True)"
   ]
  },
  {
   "cell_type": "code",
   "execution_count": 66,
   "metadata": {
    "collapsed": false
   },
   "outputs": [],
   "source": [
    "## Fill NAN with Mean of same 'profil_prm'\n",
    "fullData[\"volume_annuel\"].fillna(fullData.groupby(\"profil_prm\")[\"volume_annuel\"].transform(\"mean\"), inplace=True)"
   ]
  },
  {
   "cell_type": "code",
   "execution_count": 68,
   "metadata": {
    "collapsed": true
   },
   "outputs": [],
   "source": [
    "### Convert string categorical variable into number category\n",
    "\n",
    "number = LabelEncoder()"
   ]
  },
  {
   "cell_type": "code",
   "execution_count": 69,
   "metadata": {
    "collapsed": true
   },
   "outputs": [],
   "source": [
    "fullData['produit'] = number.fit_transform(fullData['produit'].astype('str'))"
   ]
  },
  {
   "cell_type": "code",
   "execution_count": 71,
   "metadata": {
    "collapsed": true
   },
   "outputs": [],
   "source": [
    "fullData['type_d_offre'] = number.fit_transform(fullData['type_d_offre'].astype('str'))"
   ]
  },
  {
   "cell_type": "code",
   "execution_count": 72,
   "metadata": {
    "collapsed": true
   },
   "outputs": [],
   "source": [
    "fullData['type_de_prix'] = number.fit_transform(fullData['type_de_prix'].astype('str'))"
   ]
  },
  {
   "cell_type": "code",
   "execution_count": 73,
   "metadata": {
    "collapsed": true
   },
   "outputs": [],
   "source": [
    "fullData['canal_de_vente'] = number.fit_transform(fullData['canal_de_vente'].astype('str'))"
   ]
  },
  {
   "cell_type": "code",
   "execution_count": 74,
   "metadata": {
    "collapsed": true
   },
   "outputs": [],
   "source": [
    "fullData['zone'] = number.fit_transform(fullData['zone'].astype('str'))"
   ]
  },
  {
   "cell_type": "code",
   "execution_count": 76,
   "metadata": {
    "collapsed": true
   },
   "outputs": [],
   "source": [
    "fullData['marche_de_la_sc'] = number.fit_transform(fullData['marche_de_la_sc'].astype('str'))"
   ]
  },
  {
   "cell_type": "code",
   "execution_count": 78,
   "metadata": {
    "collapsed": true
   },
   "outputs": [],
   "source": [
    "fullData['segment_societe_contractante'] = number.fit_transform(fullData['segment_societe_contractante'].astype('str'))"
   ]
  },
  {
   "cell_type": "code",
   "execution_count": 79,
   "metadata": {
    "collapsed": true
   },
   "outputs": [],
   "source": [
    "fullData['entite_societe_contractante'] = number.fit_transform(fullData['entite_societe_contractante'].astype('str'))"
   ]
  },
  {
   "cell_type": "code",
   "execution_count": 80,
   "metadata": {
    "collapsed": true
   },
   "outputs": [],
   "source": [
    "fullData['profil_prm'] = number.fit_transform(fullData['profil_prm'].astype('str'))"
   ]
  },
  {
   "cell_type": "code",
   "execution_count": 81,
   "metadata": {
    "collapsed": true
   },
   "outputs": [],
   "source": [
    "fullData['couleur_tarif_elec'] = number.fit_transform(fullData['couleur_tarif_elec'].astype('str'))"
   ]
  },
  {
   "cell_type": "code",
   "execution_count": 82,
   "metadata": {
    "collapsed": true
   },
   "outputs": [],
   "source": [
    "fullData['type_client'] = number.fit_transform(fullData['type_client'].astype('str'))"
   ]
  },
  {
   "cell_type": "code",
   "execution_count": 83,
   "metadata": {
    "collapsed": true
   },
   "outputs": [],
   "source": [
    "fullData['libelle_naf'] = number.fit_transform(fullData['libelle_naf'].astype('str'))"
   ]
  },
  {
   "cell_type": "code",
   "execution_count": 84,
   "metadata": {
    "collapsed": true
   },
   "outputs": [],
   "source": [
    "fullData['activite_nce'] = number.fit_transform(fullData['activite_nce'].astype('str'))"
   ]
  },
  {
   "cell_type": "code",
   "execution_count": 86,
   "metadata": {
    "collapsed": true
   },
   "outputs": [],
   "source": [
    "fullData['orientation_economique'] = number.fit_transform(fullData['orientation_economique'].astype('str'))"
   ]
  },
  {
   "cell_type": "code",
   "execution_count": 85,
   "metadata": {
    "collapsed": false
   },
   "outputs": [
    {
     "data": {
      "text/html": [
       "<div>\n",
       "<table border=\"1\" class=\"dataframe\">\n",
       "  <thead>\n",
       "    <tr style=\"text-align: right;\">\n",
       "      <th></th>\n",
       "      <th>Type</th>\n",
       "      <th>activite_nce</th>\n",
       "      <th>anciennete_client</th>\n",
       "      <th>canal_de_vente</th>\n",
       "      <th>cible</th>\n",
       "      <th>couleur_tarif_elec</th>\n",
       "      <th>dep_moyenne_salaires_horaires</th>\n",
       "      <th>duree</th>\n",
       "      <th>dynamique_demographique_bv</th>\n",
       "      <th>echeance_annee</th>\n",
       "      <th>echeance_mois</th>\n",
       "      <th>entite_societe_contractante</th>\n",
       "      <th>environnement_demographique</th>\n",
       "      <th>evolution_pop_percent</th>\n",
       "      <th>libelle_naf</th>\n",
       "      <th>marche_de_la_sc</th>\n",
       "      <th>nb_atifs</th>\n",
       "      <th>nb_dem_12</th>\n",
       "      <th>nb_dem_reco_12</th>\n",
       "      <th>nb_logement</th>\n",
       "      <th>nb_proprietaire</th>\n",
       "      <th>nb_recla_12</th>\n",
       "      <th>nb_recla_reco_12</th>\n",
       "      <th>orientation_economique</th>\n",
       "      <th>population</th>\n",
       "      <th>prix_elec_m3</th>\n",
       "      <th>prix_gaz_m3</th>\n",
       "      <th>produit</th>\n",
       "      <th>profil_prm</th>\n",
       "      <th>seg_dyn_entre</th>\n",
       "      <th>segment_societe_contractante</th>\n",
       "      <th>type_client</th>\n",
       "      <th>type_d_offre</th>\n",
       "      <th>type_de_prix</th>\n",
       "      <th>urbanite_ruralite</th>\n",
       "      <th>volume_annuel</th>\n",
       "      <th>zone</th>\n",
       "    </tr>\n",
       "  </thead>\n",
       "  <tbody>\n",
       "    <tr>\n",
       "      <th>0</th>\n",
       "      <td>Train</td>\n",
       "      <td>35</td>\n",
       "      <td>13.964384</td>\n",
       "      <td>0</td>\n",
       "      <td>1.0</td>\n",
       "      <td>1</td>\n",
       "      <td>11.173529</td>\n",
       "      <td>12</td>\n",
       "      <td>Grande Ville</td>\n",
       "      <td>2016</td>\n",
       "      <td>3</td>\n",
       "      <td>2</td>\n",
       "      <td>Bassin Urbain en croissance démographique</td>\n",
       "      <td>0.07</td>\n",
       "      <td>46</td>\n",
       "      <td>1</td>\n",
       "      <td>3642.0</td>\n",
       "      <td>0</td>\n",
       "      <td>0</td>\n",
       "      <td>4574.0</td>\n",
       "      <td>1693.0</td>\n",
       "      <td>0</td>\n",
       "      <td>0</td>\n",
       "      <td>Bassin Urbain</td>\n",
       "      <td>9751.0</td>\n",
       "      <td>34.367000</td>\n",
       "      <td>16.415322</td>\n",
       "      <td>0</td>\n",
       "      <td>2</td>\n",
       "      <td>Dynamique Economique</td>\n",
       "      <td>2</td>\n",
       "      <td>1</td>\n",
       "      <td>0</td>\n",
       "      <td>2</td>\n",
       "      <td>Com &gt; 200 m habts</td>\n",
       "      <td>0.11860</td>\n",
       "      <td>0</td>\n",
       "    </tr>\n",
       "    <tr>\n",
       "      <th>1</th>\n",
       "      <td>Train</td>\n",
       "      <td>35</td>\n",
       "      <td>13.964384</td>\n",
       "      <td>0</td>\n",
       "      <td>1.0</td>\n",
       "      <td>1</td>\n",
       "      <td>11.173529</td>\n",
       "      <td>12</td>\n",
       "      <td>Grande Ville</td>\n",
       "      <td>2014</td>\n",
       "      <td>3</td>\n",
       "      <td>2</td>\n",
       "      <td>Bassin Urbain en croissance démographique</td>\n",
       "      <td>0.07</td>\n",
       "      <td>46</td>\n",
       "      <td>1</td>\n",
       "      <td>3642.0</td>\n",
       "      <td>0</td>\n",
       "      <td>0</td>\n",
       "      <td>4574.0</td>\n",
       "      <td>1693.0</td>\n",
       "      <td>0</td>\n",
       "      <td>0</td>\n",
       "      <td>Bassin Urbain</td>\n",
       "      <td>9751.0</td>\n",
       "      <td>43.686875</td>\n",
       "      <td>27.547958</td>\n",
       "      <td>0</td>\n",
       "      <td>2</td>\n",
       "      <td>Dynamique Economique</td>\n",
       "      <td>2</td>\n",
       "      <td>1</td>\n",
       "      <td>0</td>\n",
       "      <td>2</td>\n",
       "      <td>Com &gt; 200 m habts</td>\n",
       "      <td>0.11860</td>\n",
       "      <td>0</td>\n",
       "    </tr>\n",
       "    <tr>\n",
       "      <th>2</th>\n",
       "      <td>Train</td>\n",
       "      <td>35</td>\n",
       "      <td>13.964384</td>\n",
       "      <td>0</td>\n",
       "      <td>1.0</td>\n",
       "      <td>1</td>\n",
       "      <td>11.173529</td>\n",
       "      <td>12</td>\n",
       "      <td>Grande Ville</td>\n",
       "      <td>2013</td>\n",
       "      <td>3</td>\n",
       "      <td>2</td>\n",
       "      <td>Bassin Urbain en croissance démographique</td>\n",
       "      <td>0.07</td>\n",
       "      <td>46</td>\n",
       "      <td>1</td>\n",
       "      <td>3642.0</td>\n",
       "      <td>0</td>\n",
       "      <td>0</td>\n",
       "      <td>4574.0</td>\n",
       "      <td>1693.0</td>\n",
       "      <td>0</td>\n",
       "      <td>0</td>\n",
       "      <td>Bassin Urbain</td>\n",
       "      <td>9751.0</td>\n",
       "      <td>39.119300</td>\n",
       "      <td>21.192400</td>\n",
       "      <td>0</td>\n",
       "      <td>2</td>\n",
       "      <td>Dynamique Economique</td>\n",
       "      <td>2</td>\n",
       "      <td>1</td>\n",
       "      <td>0</td>\n",
       "      <td>2</td>\n",
       "      <td>Com &gt; 200 m habts</td>\n",
       "      <td>0.11860</td>\n",
       "      <td>0</td>\n",
       "    </tr>\n",
       "    <tr>\n",
       "      <th>3</th>\n",
       "      <td>Train</td>\n",
       "      <td>35</td>\n",
       "      <td>13.964384</td>\n",
       "      <td>0</td>\n",
       "      <td>1.0</td>\n",
       "      <td>1</td>\n",
       "      <td>11.173529</td>\n",
       "      <td>12</td>\n",
       "      <td>Grande Ville</td>\n",
       "      <td>2015</td>\n",
       "      <td>3</td>\n",
       "      <td>2</td>\n",
       "      <td>Bassin Urbain en croissance démographique</td>\n",
       "      <td>0.07</td>\n",
       "      <td>46</td>\n",
       "      <td>1</td>\n",
       "      <td>3642.0</td>\n",
       "      <td>0</td>\n",
       "      <td>0</td>\n",
       "      <td>4574.0</td>\n",
       "      <td>1693.0</td>\n",
       "      <td>0</td>\n",
       "      <td>0</td>\n",
       "      <td>Bassin Urbain</td>\n",
       "      <td>9751.0</td>\n",
       "      <td>40.846316</td>\n",
       "      <td>22.850872</td>\n",
       "      <td>0</td>\n",
       "      <td>2</td>\n",
       "      <td>Dynamique Economique</td>\n",
       "      <td>2</td>\n",
       "      <td>1</td>\n",
       "      <td>0</td>\n",
       "      <td>2</td>\n",
       "      <td>Com &gt; 200 m habts</td>\n",
       "      <td>0.11860</td>\n",
       "      <td>0</td>\n",
       "    </tr>\n",
       "    <tr>\n",
       "      <th>4</th>\n",
       "      <td>Train</td>\n",
       "      <td>35</td>\n",
       "      <td>14.920548</td>\n",
       "      <td>0</td>\n",
       "      <td>1.0</td>\n",
       "      <td>0</td>\n",
       "      <td>11.981429</td>\n",
       "      <td>12</td>\n",
       "      <td>1.Accroissement par excédent naturel et migrat...</td>\n",
       "      <td>2014</td>\n",
       "      <td>9</td>\n",
       "      <td>2</td>\n",
       "      <td>Bassin Industriel en croissance démographique</td>\n",
       "      <td>0.06</td>\n",
       "      <td>228</td>\n",
       "      <td>2</td>\n",
       "      <td>745.0</td>\n",
       "      <td>0</td>\n",
       "      <td>0</td>\n",
       "      <td>623.0</td>\n",
       "      <td>430.0</td>\n",
       "      <td>0</td>\n",
       "      <td>0</td>\n",
       "      <td>Bassin Industriel</td>\n",
       "      <td>1700.0</td>\n",
       "      <td>41.823333</td>\n",
       "      <td>24.530851</td>\n",
       "      <td>1</td>\n",
       "      <td>13</td>\n",
       "      <td>Dynamique Economique</td>\n",
       "      <td>3</td>\n",
       "      <td>2</td>\n",
       "      <td>1</td>\n",
       "      <td>14</td>\n",
       "      <td>Com &lt; 10 m habts</td>\n",
       "      <td>5.50545</td>\n",
       "      <td>2</td>\n",
       "    </tr>\n",
       "  </tbody>\n",
       "</table>\n",
       "</div>"
      ],
      "text/plain": [
       "    Type  activite_nce  anciennete_client  canal_de_vente  cible  \\\n",
       "0  Train            35          13.964384               0    1.0   \n",
       "1  Train            35          13.964384               0    1.0   \n",
       "2  Train            35          13.964384               0    1.0   \n",
       "3  Train            35          13.964384               0    1.0   \n",
       "4  Train            35          14.920548               0    1.0   \n",
       "\n",
       "   couleur_tarif_elec  dep_moyenne_salaires_horaires  duree  \\\n",
       "0                   1                      11.173529     12   \n",
       "1                   1                      11.173529     12   \n",
       "2                   1                      11.173529     12   \n",
       "3                   1                      11.173529     12   \n",
       "4                   0                      11.981429     12   \n",
       "\n",
       "                          dynamique_demographique_bv  echeance_annee  \\\n",
       "0                                       Grande Ville            2016   \n",
       "1                                       Grande Ville            2014   \n",
       "2                                       Grande Ville            2013   \n",
       "3                                       Grande Ville            2015   \n",
       "4  1.Accroissement par excédent naturel et migrat...            2014   \n",
       "\n",
       "   echeance_mois  entite_societe_contractante  \\\n",
       "0              3                            2   \n",
       "1              3                            2   \n",
       "2              3                            2   \n",
       "3              3                            2   \n",
       "4              9                            2   \n",
       "\n",
       "                     environnement_demographique  evolution_pop_percent  \\\n",
       "0      Bassin Urbain en croissance démographique                   0.07   \n",
       "1      Bassin Urbain en croissance démographique                   0.07   \n",
       "2      Bassin Urbain en croissance démographique                   0.07   \n",
       "3      Bassin Urbain en croissance démographique                   0.07   \n",
       "4  Bassin Industriel en croissance démographique                   0.06   \n",
       "\n",
       "   libelle_naf  marche_de_la_sc  nb_atifs  nb_dem_12  nb_dem_reco_12  \\\n",
       "0           46                1    3642.0          0               0   \n",
       "1           46                1    3642.0          0               0   \n",
       "2           46                1    3642.0          0               0   \n",
       "3           46                1    3642.0          0               0   \n",
       "4          228                2     745.0          0               0   \n",
       "\n",
       "   nb_logement  nb_proprietaire  nb_recla_12  nb_recla_reco_12  \\\n",
       "0       4574.0           1693.0            0                 0   \n",
       "1       4574.0           1693.0            0                 0   \n",
       "2       4574.0           1693.0            0                 0   \n",
       "3       4574.0           1693.0            0                 0   \n",
       "4        623.0            430.0            0                 0   \n",
       "\n",
       "  orientation_economique  population  prix_elec_m3  prix_gaz_m3  produit  \\\n",
       "0          Bassin Urbain      9751.0     34.367000    16.415322        0   \n",
       "1          Bassin Urbain      9751.0     43.686875    27.547958        0   \n",
       "2          Bassin Urbain      9751.0     39.119300    21.192400        0   \n",
       "3          Bassin Urbain      9751.0     40.846316    22.850872        0   \n",
       "4      Bassin Industriel      1700.0     41.823333    24.530851        1   \n",
       "\n",
       "   profil_prm         seg_dyn_entre  segment_societe_contractante  \\\n",
       "0           2  Dynamique Economique                             2   \n",
       "1           2  Dynamique Economique                             2   \n",
       "2           2  Dynamique Economique                             2   \n",
       "3           2  Dynamique Economique                             2   \n",
       "4          13  Dynamique Economique                             3   \n",
       "\n",
       "   type_client  type_d_offre  type_de_prix  urbanite_ruralite  volume_annuel  \\\n",
       "0            1             0             2  Com > 200 m habts        0.11860   \n",
       "1            1             0             2  Com > 200 m habts        0.11860   \n",
       "2            1             0             2  Com > 200 m habts        0.11860   \n",
       "3            1             0             2  Com > 200 m habts        0.11860   \n",
       "4            2             1            14   Com < 10 m habts        5.50545   \n",
       "\n",
       "   zone  \n",
       "0     0  \n",
       "1     0  \n",
       "2     0  \n",
       "3     0  \n",
       "4     2  "
      ]
     },
     "execution_count": 85,
     "metadata": {},
     "output_type": "execute_result"
    }
   ],
   "source": [
    "fullData.head()"
   ]
  },
  {
   "cell_type": "code",
   "execution_count": 87,
   "metadata": {
    "collapsed": true
   },
   "outputs": [],
   "source": [
    "## Drop unwanted columns "
   ]
  },
  {
   "cell_type": "code",
   "execution_count": 88,
   "metadata": {
    "collapsed": true
   },
   "outputs": [],
   "source": [
    "fullData.drop('echeance_annee', axis=1, inplace=True)"
   ]
  },
  {
   "cell_type": "code",
   "execution_count": 89,
   "metadata": {
    "collapsed": true
   },
   "outputs": [],
   "source": [
    "fullData.drop('population', axis=1, inplace=True)"
   ]
  },
  {
   "cell_type": "code",
   "execution_count": 90,
   "metadata": {
    "collapsed": true
   },
   "outputs": [],
   "source": [
    "fullData.drop('evolution_pop_percent', axis=1, inplace=True)"
   ]
  },
  {
   "cell_type": "code",
   "execution_count": 91,
   "metadata": {
    "collapsed": true
   },
   "outputs": [],
   "source": [
    "fullData.drop('nb_proprietaire', axis=1, inplace=True)"
   ]
  },
  {
   "cell_type": "code",
   "execution_count": 92,
   "metadata": {
    "collapsed": true
   },
   "outputs": [],
   "source": [
    "fullData.drop('nb_logement', axis=1, inplace=True)"
   ]
  },
  {
   "cell_type": "code",
   "execution_count": 93,
   "metadata": {
    "collapsed": true
   },
   "outputs": [],
   "source": [
    "fullData.drop('dep_moyenne_salaires_horaires', axis=1, inplace=True)"
   ]
  },
  {
   "cell_type": "code",
   "execution_count": 94,
   "metadata": {
    "collapsed": true
   },
   "outputs": [],
   "source": [
    "fullData.drop('urbanite_ruralite', axis=1, inplace=True)"
   ]
  },
  {
   "cell_type": "code",
   "execution_count": 95,
   "metadata": {
    "collapsed": true
   },
   "outputs": [],
   "source": [
    "fullData.drop('nb_atifs', axis=1, inplace=True)"
   ]
  },
  {
   "cell_type": "code",
   "execution_count": 96,
   "metadata": {
    "collapsed": true
   },
   "outputs": [],
   "source": [
    "fullData.drop('dynamique_demographique_bv', axis=1, inplace=True)"
   ]
  },
  {
   "cell_type": "code",
   "execution_count": 97,
   "metadata": {
    "collapsed": true
   },
   "outputs": [],
   "source": [
    "fullData.drop('environnement_demographique', axis=1, inplace=True)"
   ]
  },
  {
   "cell_type": "code",
   "execution_count": 98,
   "metadata": {
    "collapsed": true
   },
   "outputs": [],
   "source": [
    "fullData.drop('seg_dyn_entre', axis=1, inplace=True)"
   ]
  },
  {
   "cell_type": "code",
   "execution_count": 99,
   "metadata": {
    "collapsed": false
   },
   "outputs": [
    {
     "data": {
      "text/html": [
       "<div>\n",
       "<table border=\"1\" class=\"dataframe\">\n",
       "  <thead>\n",
       "    <tr style=\"text-align: right;\">\n",
       "      <th></th>\n",
       "      <th>Type</th>\n",
       "      <th>activite_nce</th>\n",
       "      <th>anciennete_client</th>\n",
       "      <th>canal_de_vente</th>\n",
       "      <th>cible</th>\n",
       "      <th>couleur_tarif_elec</th>\n",
       "      <th>duree</th>\n",
       "      <th>echeance_mois</th>\n",
       "      <th>entite_societe_contractante</th>\n",
       "      <th>libelle_naf</th>\n",
       "      <th>marche_de_la_sc</th>\n",
       "      <th>nb_dem_12</th>\n",
       "      <th>nb_dem_reco_12</th>\n",
       "      <th>nb_recla_12</th>\n",
       "      <th>nb_recla_reco_12</th>\n",
       "      <th>orientation_economique</th>\n",
       "      <th>prix_elec_m3</th>\n",
       "      <th>prix_gaz_m3</th>\n",
       "      <th>produit</th>\n",
       "      <th>profil_prm</th>\n",
       "      <th>segment_societe_contractante</th>\n",
       "      <th>type_client</th>\n",
       "      <th>type_d_offre</th>\n",
       "      <th>type_de_prix</th>\n",
       "      <th>volume_annuel</th>\n",
       "      <th>zone</th>\n",
       "    </tr>\n",
       "  </thead>\n",
       "  <tbody>\n",
       "    <tr>\n",
       "      <th>0</th>\n",
       "      <td>Train</td>\n",
       "      <td>35</td>\n",
       "      <td>13.964384</td>\n",
       "      <td>0</td>\n",
       "      <td>1.0</td>\n",
       "      <td>1</td>\n",
       "      <td>12</td>\n",
       "      <td>3</td>\n",
       "      <td>2</td>\n",
       "      <td>46</td>\n",
       "      <td>1</td>\n",
       "      <td>0</td>\n",
       "      <td>0</td>\n",
       "      <td>0</td>\n",
       "      <td>0</td>\n",
       "      <td>3</td>\n",
       "      <td>34.367000</td>\n",
       "      <td>16.415322</td>\n",
       "      <td>0</td>\n",
       "      <td>2</td>\n",
       "      <td>2</td>\n",
       "      <td>1</td>\n",
       "      <td>0</td>\n",
       "      <td>2</td>\n",
       "      <td>0.11860</td>\n",
       "      <td>0</td>\n",
       "    </tr>\n",
       "    <tr>\n",
       "      <th>1</th>\n",
       "      <td>Train</td>\n",
       "      <td>35</td>\n",
       "      <td>13.964384</td>\n",
       "      <td>0</td>\n",
       "      <td>1.0</td>\n",
       "      <td>1</td>\n",
       "      <td>12</td>\n",
       "      <td>3</td>\n",
       "      <td>2</td>\n",
       "      <td>46</td>\n",
       "      <td>1</td>\n",
       "      <td>0</td>\n",
       "      <td>0</td>\n",
       "      <td>0</td>\n",
       "      <td>0</td>\n",
       "      <td>3</td>\n",
       "      <td>43.686875</td>\n",
       "      <td>27.547958</td>\n",
       "      <td>0</td>\n",
       "      <td>2</td>\n",
       "      <td>2</td>\n",
       "      <td>1</td>\n",
       "      <td>0</td>\n",
       "      <td>2</td>\n",
       "      <td>0.11860</td>\n",
       "      <td>0</td>\n",
       "    </tr>\n",
       "    <tr>\n",
       "      <th>2</th>\n",
       "      <td>Train</td>\n",
       "      <td>35</td>\n",
       "      <td>13.964384</td>\n",
       "      <td>0</td>\n",
       "      <td>1.0</td>\n",
       "      <td>1</td>\n",
       "      <td>12</td>\n",
       "      <td>3</td>\n",
       "      <td>2</td>\n",
       "      <td>46</td>\n",
       "      <td>1</td>\n",
       "      <td>0</td>\n",
       "      <td>0</td>\n",
       "      <td>0</td>\n",
       "      <td>0</td>\n",
       "      <td>3</td>\n",
       "      <td>39.119300</td>\n",
       "      <td>21.192400</td>\n",
       "      <td>0</td>\n",
       "      <td>2</td>\n",
       "      <td>2</td>\n",
       "      <td>1</td>\n",
       "      <td>0</td>\n",
       "      <td>2</td>\n",
       "      <td>0.11860</td>\n",
       "      <td>0</td>\n",
       "    </tr>\n",
       "    <tr>\n",
       "      <th>3</th>\n",
       "      <td>Train</td>\n",
       "      <td>35</td>\n",
       "      <td>13.964384</td>\n",
       "      <td>0</td>\n",
       "      <td>1.0</td>\n",
       "      <td>1</td>\n",
       "      <td>12</td>\n",
       "      <td>3</td>\n",
       "      <td>2</td>\n",
       "      <td>46</td>\n",
       "      <td>1</td>\n",
       "      <td>0</td>\n",
       "      <td>0</td>\n",
       "      <td>0</td>\n",
       "      <td>0</td>\n",
       "      <td>3</td>\n",
       "      <td>40.846316</td>\n",
       "      <td>22.850872</td>\n",
       "      <td>0</td>\n",
       "      <td>2</td>\n",
       "      <td>2</td>\n",
       "      <td>1</td>\n",
       "      <td>0</td>\n",
       "      <td>2</td>\n",
       "      <td>0.11860</td>\n",
       "      <td>0</td>\n",
       "    </tr>\n",
       "    <tr>\n",
       "      <th>4</th>\n",
       "      <td>Train</td>\n",
       "      <td>35</td>\n",
       "      <td>14.920548</td>\n",
       "      <td>0</td>\n",
       "      <td>1.0</td>\n",
       "      <td>0</td>\n",
       "      <td>12</td>\n",
       "      <td>9</td>\n",
       "      <td>2</td>\n",
       "      <td>228</td>\n",
       "      <td>2</td>\n",
       "      <td>0</td>\n",
       "      <td>0</td>\n",
       "      <td>0</td>\n",
       "      <td>0</td>\n",
       "      <td>1</td>\n",
       "      <td>41.823333</td>\n",
       "      <td>24.530851</td>\n",
       "      <td>1</td>\n",
       "      <td>13</td>\n",
       "      <td>3</td>\n",
       "      <td>2</td>\n",
       "      <td>1</td>\n",
       "      <td>14</td>\n",
       "      <td>5.50545</td>\n",
       "      <td>2</td>\n",
       "    </tr>\n",
       "  </tbody>\n",
       "</table>\n",
       "</div>"
      ],
      "text/plain": [
       "    Type  activite_nce  anciennete_client  canal_de_vente  cible  \\\n",
       "0  Train            35          13.964384               0    1.0   \n",
       "1  Train            35          13.964384               0    1.0   \n",
       "2  Train            35          13.964384               0    1.0   \n",
       "3  Train            35          13.964384               0    1.0   \n",
       "4  Train            35          14.920548               0    1.0   \n",
       "\n",
       "   couleur_tarif_elec  duree  echeance_mois  entite_societe_contractante  \\\n",
       "0                   1     12              3                            2   \n",
       "1                   1     12              3                            2   \n",
       "2                   1     12              3                            2   \n",
       "3                   1     12              3                            2   \n",
       "4                   0     12              9                            2   \n",
       "\n",
       "   libelle_naf  marche_de_la_sc  nb_dem_12  nb_dem_reco_12  nb_recla_12  \\\n",
       "0           46                1          0               0            0   \n",
       "1           46                1          0               0            0   \n",
       "2           46                1          0               0            0   \n",
       "3           46                1          0               0            0   \n",
       "4          228                2          0               0            0   \n",
       "\n",
       "   nb_recla_reco_12  orientation_economique  prix_elec_m3  prix_gaz_m3  \\\n",
       "0                 0                       3     34.367000    16.415322   \n",
       "1                 0                       3     43.686875    27.547958   \n",
       "2                 0                       3     39.119300    21.192400   \n",
       "3                 0                       3     40.846316    22.850872   \n",
       "4                 0                       1     41.823333    24.530851   \n",
       "\n",
       "   produit  profil_prm  segment_societe_contractante  type_client  \\\n",
       "0        0           2                             2            1   \n",
       "1        0           2                             2            1   \n",
       "2        0           2                             2            1   \n",
       "3        0           2                             2            1   \n",
       "4        1          13                             3            2   \n",
       "\n",
       "   type_d_offre  type_de_prix  volume_annuel  zone  \n",
       "0             0             2        0.11860     0  \n",
       "1             0             2        0.11860     0  \n",
       "2             0             2        0.11860     0  \n",
       "3             0             2        0.11860     0  \n",
       "4             1            14        5.50545     2  "
      ]
     },
     "execution_count": 99,
     "metadata": {},
     "output_type": "execute_result"
    }
   ],
   "source": [
    "fullData.head()"
   ]
  },
  {
   "cell_type": "code",
   "execution_count": 100,
   "metadata": {
    "collapsed": false
   },
   "outputs": [
    {
     "data": {
      "text/plain": [
       "(436440, 26)"
      ]
     },
     "execution_count": 100,
     "metadata": {},
     "output_type": "execute_result"
    }
   ],
   "source": [
    "fullData.shape"
   ]
  },
  {
   "cell_type": "code",
   "execution_count": 101,
   "metadata": {
    "collapsed": true
   },
   "outputs": [],
   "source": [
    "## Seperating Train / Test again"
   ]
  },
  {
   "cell_type": "code",
   "execution_count": 102,
   "metadata": {
    "collapsed": true
   },
   "outputs": [],
   "source": [
    "train_df = fullData[fullData['Type']=='Train']"
   ]
  },
  {
   "cell_type": "code",
   "execution_count": 107,
   "metadata": {
    "collapsed": true
   },
   "outputs": [],
   "source": [
    "test_df = fullData[fullData['Type']=='Test']"
   ]
  },
  {
   "cell_type": "code",
   "execution_count": 115,
   "metadata": {
    "collapsed": false
   },
   "outputs": [
    {
     "data": {
      "text/plain": [
       "(356669, 25)"
      ]
     },
     "execution_count": 115,
     "metadata": {},
     "output_type": "execute_result"
    }
   ],
   "source": [
    "train_df.shape"
   ]
  },
  {
   "cell_type": "code",
   "execution_count": 105,
   "metadata": {
    "collapsed": false
   },
   "outputs": [
    {
     "data": {
      "text/html": [
       "<div>\n",
       "<table border=\"1\" class=\"dataframe\">\n",
       "  <thead>\n",
       "    <tr style=\"text-align: right;\">\n",
       "      <th></th>\n",
       "      <th>Type</th>\n",
       "      <th>activite_nce</th>\n",
       "      <th>anciennete_client</th>\n",
       "      <th>canal_de_vente</th>\n",
       "      <th>cible</th>\n",
       "      <th>couleur_tarif_elec</th>\n",
       "      <th>duree</th>\n",
       "      <th>echeance_mois</th>\n",
       "      <th>entite_societe_contractante</th>\n",
       "      <th>libelle_naf</th>\n",
       "      <th>marche_de_la_sc</th>\n",
       "      <th>nb_dem_12</th>\n",
       "      <th>nb_dem_reco_12</th>\n",
       "      <th>nb_recla_12</th>\n",
       "      <th>nb_recla_reco_12</th>\n",
       "      <th>orientation_economique</th>\n",
       "      <th>prix_elec_m3</th>\n",
       "      <th>prix_gaz_m3</th>\n",
       "      <th>produit</th>\n",
       "      <th>profil_prm</th>\n",
       "      <th>segment_societe_contractante</th>\n",
       "      <th>type_client</th>\n",
       "      <th>type_d_offre</th>\n",
       "      <th>type_de_prix</th>\n",
       "      <th>volume_annuel</th>\n",
       "      <th>zone</th>\n",
       "    </tr>\n",
       "  </thead>\n",
       "  <tbody>\n",
       "    <tr>\n",
       "      <th>0</th>\n",
       "      <td>Train</td>\n",
       "      <td>35</td>\n",
       "      <td>13.964384</td>\n",
       "      <td>0</td>\n",
       "      <td>1.0</td>\n",
       "      <td>1</td>\n",
       "      <td>12</td>\n",
       "      <td>3</td>\n",
       "      <td>2</td>\n",
       "      <td>46</td>\n",
       "      <td>1</td>\n",
       "      <td>0</td>\n",
       "      <td>0</td>\n",
       "      <td>0</td>\n",
       "      <td>0</td>\n",
       "      <td>3</td>\n",
       "      <td>34.367000</td>\n",
       "      <td>16.415322</td>\n",
       "      <td>0</td>\n",
       "      <td>2</td>\n",
       "      <td>2</td>\n",
       "      <td>1</td>\n",
       "      <td>0</td>\n",
       "      <td>2</td>\n",
       "      <td>0.11860</td>\n",
       "      <td>0</td>\n",
       "    </tr>\n",
       "    <tr>\n",
       "      <th>1</th>\n",
       "      <td>Train</td>\n",
       "      <td>35</td>\n",
       "      <td>13.964384</td>\n",
       "      <td>0</td>\n",
       "      <td>1.0</td>\n",
       "      <td>1</td>\n",
       "      <td>12</td>\n",
       "      <td>3</td>\n",
       "      <td>2</td>\n",
       "      <td>46</td>\n",
       "      <td>1</td>\n",
       "      <td>0</td>\n",
       "      <td>0</td>\n",
       "      <td>0</td>\n",
       "      <td>0</td>\n",
       "      <td>3</td>\n",
       "      <td>43.686875</td>\n",
       "      <td>27.547958</td>\n",
       "      <td>0</td>\n",
       "      <td>2</td>\n",
       "      <td>2</td>\n",
       "      <td>1</td>\n",
       "      <td>0</td>\n",
       "      <td>2</td>\n",
       "      <td>0.11860</td>\n",
       "      <td>0</td>\n",
       "    </tr>\n",
       "    <tr>\n",
       "      <th>2</th>\n",
       "      <td>Train</td>\n",
       "      <td>35</td>\n",
       "      <td>13.964384</td>\n",
       "      <td>0</td>\n",
       "      <td>1.0</td>\n",
       "      <td>1</td>\n",
       "      <td>12</td>\n",
       "      <td>3</td>\n",
       "      <td>2</td>\n",
       "      <td>46</td>\n",
       "      <td>1</td>\n",
       "      <td>0</td>\n",
       "      <td>0</td>\n",
       "      <td>0</td>\n",
       "      <td>0</td>\n",
       "      <td>3</td>\n",
       "      <td>39.119300</td>\n",
       "      <td>21.192400</td>\n",
       "      <td>0</td>\n",
       "      <td>2</td>\n",
       "      <td>2</td>\n",
       "      <td>1</td>\n",
       "      <td>0</td>\n",
       "      <td>2</td>\n",
       "      <td>0.11860</td>\n",
       "      <td>0</td>\n",
       "    </tr>\n",
       "    <tr>\n",
       "      <th>3</th>\n",
       "      <td>Train</td>\n",
       "      <td>35</td>\n",
       "      <td>13.964384</td>\n",
       "      <td>0</td>\n",
       "      <td>1.0</td>\n",
       "      <td>1</td>\n",
       "      <td>12</td>\n",
       "      <td>3</td>\n",
       "      <td>2</td>\n",
       "      <td>46</td>\n",
       "      <td>1</td>\n",
       "      <td>0</td>\n",
       "      <td>0</td>\n",
       "      <td>0</td>\n",
       "      <td>0</td>\n",
       "      <td>3</td>\n",
       "      <td>40.846316</td>\n",
       "      <td>22.850872</td>\n",
       "      <td>0</td>\n",
       "      <td>2</td>\n",
       "      <td>2</td>\n",
       "      <td>1</td>\n",
       "      <td>0</td>\n",
       "      <td>2</td>\n",
       "      <td>0.11860</td>\n",
       "      <td>0</td>\n",
       "    </tr>\n",
       "    <tr>\n",
       "      <th>4</th>\n",
       "      <td>Train</td>\n",
       "      <td>35</td>\n",
       "      <td>14.920548</td>\n",
       "      <td>0</td>\n",
       "      <td>1.0</td>\n",
       "      <td>0</td>\n",
       "      <td>12</td>\n",
       "      <td>9</td>\n",
       "      <td>2</td>\n",
       "      <td>228</td>\n",
       "      <td>2</td>\n",
       "      <td>0</td>\n",
       "      <td>0</td>\n",
       "      <td>0</td>\n",
       "      <td>0</td>\n",
       "      <td>1</td>\n",
       "      <td>41.823333</td>\n",
       "      <td>24.530851</td>\n",
       "      <td>1</td>\n",
       "      <td>13</td>\n",
       "      <td>3</td>\n",
       "      <td>2</td>\n",
       "      <td>1</td>\n",
       "      <td>14</td>\n",
       "      <td>5.50545</td>\n",
       "      <td>2</td>\n",
       "    </tr>\n",
       "  </tbody>\n",
       "</table>\n",
       "</div>"
      ],
      "text/plain": [
       "    Type  activite_nce  anciennete_client  canal_de_vente  cible  \\\n",
       "0  Train            35          13.964384               0    1.0   \n",
       "1  Train            35          13.964384               0    1.0   \n",
       "2  Train            35          13.964384               0    1.0   \n",
       "3  Train            35          13.964384               0    1.0   \n",
       "4  Train            35          14.920548               0    1.0   \n",
       "\n",
       "   couleur_tarif_elec  duree  echeance_mois  entite_societe_contractante  \\\n",
       "0                   1     12              3                            2   \n",
       "1                   1     12              3                            2   \n",
       "2                   1     12              3                            2   \n",
       "3                   1     12              3                            2   \n",
       "4                   0     12              9                            2   \n",
       "\n",
       "   libelle_naf  marche_de_la_sc  nb_dem_12  nb_dem_reco_12  nb_recla_12  \\\n",
       "0           46                1          0               0            0   \n",
       "1           46                1          0               0            0   \n",
       "2           46                1          0               0            0   \n",
       "3           46                1          0               0            0   \n",
       "4          228                2          0               0            0   \n",
       "\n",
       "   nb_recla_reco_12  orientation_economique  prix_elec_m3  prix_gaz_m3  \\\n",
       "0                 0                       3     34.367000    16.415322   \n",
       "1                 0                       3     43.686875    27.547958   \n",
       "2                 0                       3     39.119300    21.192400   \n",
       "3                 0                       3     40.846316    22.850872   \n",
       "4                 0                       1     41.823333    24.530851   \n",
       "\n",
       "   produit  profil_prm  segment_societe_contractante  type_client  \\\n",
       "0        0           2                             2            1   \n",
       "1        0           2                             2            1   \n",
       "2        0           2                             2            1   \n",
       "3        0           2                             2            1   \n",
       "4        1          13                             3            2   \n",
       "\n",
       "   type_d_offre  type_de_prix  volume_annuel  zone  \n",
       "0             0             2        0.11860     0  \n",
       "1             0             2        0.11860     0  \n",
       "2             0             2        0.11860     0  \n",
       "3             0             2        0.11860     0  \n",
       "4             1            14        5.50545     2  "
      ]
     },
     "execution_count": 105,
     "metadata": {},
     "output_type": "execute_result"
    }
   ],
   "source": [
    "train_df.head()"
   ]
  },
  {
   "cell_type": "code",
   "execution_count": 114,
   "metadata": {
    "collapsed": false
   },
   "outputs": [
    {
     "data": {
      "text/plain": [
       "(79771, 24)"
      ]
     },
     "execution_count": 114,
     "metadata": {},
     "output_type": "execute_result"
    }
   ],
   "source": [
    "test_df.shape"
   ]
  },
  {
   "cell_type": "code",
   "execution_count": 111,
   "metadata": {
    "collapsed": false
   },
   "outputs": [
    {
     "data": {
      "text/html": [
       "<div>\n",
       "<table border=\"1\" class=\"dataframe\">\n",
       "  <thead>\n",
       "    <tr style=\"text-align: right;\">\n",
       "      <th></th>\n",
       "      <th>Type</th>\n",
       "      <th>activite_nce</th>\n",
       "      <th>anciennete_client</th>\n",
       "      <th>canal_de_vente</th>\n",
       "      <th>couleur_tarif_elec</th>\n",
       "      <th>duree</th>\n",
       "      <th>echeance_mois</th>\n",
       "      <th>entite_societe_contractante</th>\n",
       "      <th>libelle_naf</th>\n",
       "      <th>marche_de_la_sc</th>\n",
       "      <th>nb_dem_12</th>\n",
       "      <th>nb_dem_reco_12</th>\n",
       "      <th>nb_recla_12</th>\n",
       "      <th>nb_recla_reco_12</th>\n",
       "      <th>orientation_economique</th>\n",
       "      <th>prix_elec_m3</th>\n",
       "      <th>prix_gaz_m3</th>\n",
       "      <th>produit</th>\n",
       "      <th>profil_prm</th>\n",
       "      <th>segment_societe_contractante</th>\n",
       "      <th>type_client</th>\n",
       "      <th>type_d_offre</th>\n",
       "      <th>type_de_prix</th>\n",
       "      <th>volume_annuel</th>\n",
       "      <th>zone</th>\n",
       "    </tr>\n",
       "  </thead>\n",
       "  <tbody>\n",
       "    <tr>\n",
       "      <th>0</th>\n",
       "      <td>Test</td>\n",
       "      <td>35</td>\n",
       "      <td>13.964384</td>\n",
       "      <td>0</td>\n",
       "      <td>1</td>\n",
       "      <td>12</td>\n",
       "      <td>3</td>\n",
       "      <td>2</td>\n",
       "      <td>46</td>\n",
       "      <td>1</td>\n",
       "      <td>0</td>\n",
       "      <td>0</td>\n",
       "      <td>0</td>\n",
       "      <td>0</td>\n",
       "      <td>3</td>\n",
       "      <td>38.065238</td>\n",
       "      <td>17.313520</td>\n",
       "      <td>0</td>\n",
       "      <td>2</td>\n",
       "      <td>2</td>\n",
       "      <td>1</td>\n",
       "      <td>0</td>\n",
       "      <td>2</td>\n",
       "      <td>0.11860</td>\n",
       "      <td>0</td>\n",
       "    </tr>\n",
       "    <tr>\n",
       "      <th>1</th>\n",
       "      <td>Test</td>\n",
       "      <td>3</td>\n",
       "      <td>13.509000</td>\n",
       "      <td>1</td>\n",
       "      <td>0</td>\n",
       "      <td>36</td>\n",
       "      <td>6</td>\n",
       "      <td>4</td>\n",
       "      <td>59</td>\n",
       "      <td>2</td>\n",
       "      <td>0</td>\n",
       "      <td>0</td>\n",
       "      <td>0</td>\n",
       "      <td>0</td>\n",
       "      <td>3</td>\n",
       "      <td>34.830435</td>\n",
       "      <td>16.783495</td>\n",
       "      <td>1</td>\n",
       "      <td>15</td>\n",
       "      <td>3</td>\n",
       "      <td>0</td>\n",
       "      <td>1</td>\n",
       "      <td>14</td>\n",
       "      <td>4.96180</td>\n",
       "      <td>3</td>\n",
       "    </tr>\n",
       "    <tr>\n",
       "      <th>2</th>\n",
       "      <td>Test</td>\n",
       "      <td>3</td>\n",
       "      <td>13.509000</td>\n",
       "      <td>1</td>\n",
       "      <td>0</td>\n",
       "      <td>36</td>\n",
       "      <td>1</td>\n",
       "      <td>4</td>\n",
       "      <td>59</td>\n",
       "      <td>2</td>\n",
       "      <td>2</td>\n",
       "      <td>1</td>\n",
       "      <td>0</td>\n",
       "      <td>0</td>\n",
       "      <td>3</td>\n",
       "      <td>41.947143</td>\n",
       "      <td>16.615879</td>\n",
       "      <td>1</td>\n",
       "      <td>15</td>\n",
       "      <td>3</td>\n",
       "      <td>0</td>\n",
       "      <td>1</td>\n",
       "      <td>14</td>\n",
       "      <td>4.96180</td>\n",
       "      <td>3</td>\n",
       "    </tr>\n",
       "    <tr>\n",
       "      <th>3</th>\n",
       "      <td>Test</td>\n",
       "      <td>3</td>\n",
       "      <td>13.509000</td>\n",
       "      <td>1</td>\n",
       "      <td>0</td>\n",
       "      <td>12</td>\n",
       "      <td>8</td>\n",
       "      <td>4</td>\n",
       "      <td>59</td>\n",
       "      <td>2</td>\n",
       "      <td>0</td>\n",
       "      <td>0</td>\n",
       "      <td>0</td>\n",
       "      <td>0</td>\n",
       "      <td>3</td>\n",
       "      <td>35.679091</td>\n",
       "      <td>16.614452</td>\n",
       "      <td>1</td>\n",
       "      <td>13</td>\n",
       "      <td>3</td>\n",
       "      <td>0</td>\n",
       "      <td>1</td>\n",
       "      <td>0</td>\n",
       "      <td>1.28400</td>\n",
       "      <td>2</td>\n",
       "    </tr>\n",
       "    <tr>\n",
       "      <th>4</th>\n",
       "      <td>Test</td>\n",
       "      <td>13</td>\n",
       "      <td>13.830137</td>\n",
       "      <td>0</td>\n",
       "      <td>0</td>\n",
       "      <td>12</td>\n",
       "      <td>8</td>\n",
       "      <td>0</td>\n",
       "      <td>224</td>\n",
       "      <td>2</td>\n",
       "      <td>0</td>\n",
       "      <td>0</td>\n",
       "      <td>0</td>\n",
       "      <td>0</td>\n",
       "      <td>3</td>\n",
       "      <td>35.679091</td>\n",
       "      <td>16.614452</td>\n",
       "      <td>1</td>\n",
       "      <td>15</td>\n",
       "      <td>3</td>\n",
       "      <td>2</td>\n",
       "      <td>1</td>\n",
       "      <td>0</td>\n",
       "      <td>3.78125</td>\n",
       "      <td>1</td>\n",
       "    </tr>\n",
       "  </tbody>\n",
       "</table>\n",
       "</div>"
      ],
      "text/plain": [
       "   Type  activite_nce  anciennete_client  canal_de_vente  couleur_tarif_elec  \\\n",
       "0  Test            35          13.964384               0                   1   \n",
       "1  Test             3          13.509000               1                   0   \n",
       "2  Test             3          13.509000               1                   0   \n",
       "3  Test             3          13.509000               1                   0   \n",
       "4  Test            13          13.830137               0                   0   \n",
       "\n",
       "   duree  echeance_mois  entite_societe_contractante  libelle_naf  \\\n",
       "0     12              3                            2           46   \n",
       "1     36              6                            4           59   \n",
       "2     36              1                            4           59   \n",
       "3     12              8                            4           59   \n",
       "4     12              8                            0          224   \n",
       "\n",
       "   marche_de_la_sc  nb_dem_12  nb_dem_reco_12  nb_recla_12  nb_recla_reco_12  \\\n",
       "0                1          0               0            0                 0   \n",
       "1                2          0               0            0                 0   \n",
       "2                2          2               1            0                 0   \n",
       "3                2          0               0            0                 0   \n",
       "4                2          0               0            0                 0   \n",
       "\n",
       "   orientation_economique  prix_elec_m3  prix_gaz_m3  produit  profil_prm  \\\n",
       "0                       3     38.065238    17.313520        0           2   \n",
       "1                       3     34.830435    16.783495        1          15   \n",
       "2                       3     41.947143    16.615879        1          15   \n",
       "3                       3     35.679091    16.614452        1          13   \n",
       "4                       3     35.679091    16.614452        1          15   \n",
       "\n",
       "   segment_societe_contractante  type_client  type_d_offre  type_de_prix  \\\n",
       "0                             2            1             0             2   \n",
       "1                             3            0             1            14   \n",
       "2                             3            0             1            14   \n",
       "3                             3            0             1             0   \n",
       "4                             3            2             1             0   \n",
       "\n",
       "   volume_annuel  zone  \n",
       "0        0.11860     0  \n",
       "1        4.96180     3  \n",
       "2        4.96180     3  \n",
       "3        1.28400     2  \n",
       "4        3.78125     1  "
      ]
     },
     "execution_count": 111,
     "metadata": {},
     "output_type": "execute_result"
    }
   ],
   "source": [
    "test_df.head()"
   ]
  },
  {
   "cell_type": "code",
   "execution_count": 110,
   "metadata": {
    "collapsed": false
   },
   "outputs": [
    {
     "name": "stderr",
     "output_type": "stream",
     "text": [
      "C:\\Program Files\\Anaconda3\\lib\\site-packages\\ipykernel\\__main__.py:1: SettingWithCopyWarning: \n",
      "A value is trying to be set on a copy of a slice from a DataFrame\n",
      "\n",
      "See the caveats in the documentation: http://pandas.pydata.org/pandas-docs/stable/indexing.html#indexing-view-versus-copy\n",
      "  if __name__ == '__main__':\n"
     ]
    }
   ],
   "source": [
    "test_df.drop('cible', axis=1, inplace=True)"
   ]
  },
  {
   "cell_type": "code",
   "execution_count": 112,
   "metadata": {
    "collapsed": false
   },
   "outputs": [
    {
     "name": "stderr",
     "output_type": "stream",
     "text": [
      "C:\\Program Files\\Anaconda3\\lib\\site-packages\\ipykernel\\__main__.py:1: SettingWithCopyWarning: \n",
      "A value is trying to be set on a copy of a slice from a DataFrame\n",
      "\n",
      "See the caveats in the documentation: http://pandas.pydata.org/pandas-docs/stable/indexing.html#indexing-view-versus-copy\n",
      "  if __name__ == '__main__':\n"
     ]
    }
   ],
   "source": [
    "test_df.drop('Type', axis=1, inplace=True)"
   ]
  },
  {
   "cell_type": "code",
   "execution_count": 113,
   "metadata": {
    "collapsed": false
   },
   "outputs": [
    {
     "name": "stderr",
     "output_type": "stream",
     "text": [
      "C:\\Program Files\\Anaconda3\\lib\\site-packages\\ipykernel\\__main__.py:1: SettingWithCopyWarning: \n",
      "A value is trying to be set on a copy of a slice from a DataFrame\n",
      "\n",
      "See the caveats in the documentation: http://pandas.pydata.org/pandas-docs/stable/indexing.html#indexing-view-versus-copy\n",
      "  if __name__ == '__main__':\n"
     ]
    }
   ],
   "source": [
    "train_df.drop('Type', axis=1, inplace=True)"
   ]
  },
  {
   "cell_type": "code",
   "execution_count": 116,
   "metadata": {
    "collapsed": true
   },
   "outputs": [],
   "source": [
    "train_df.to_csv(\"train_preprocess_v1.csv\", index = False)"
   ]
  },
  {
   "cell_type": "code",
   "execution_count": 117,
   "metadata": {
    "collapsed": true
   },
   "outputs": [],
   "source": [
    "test_df.to_csv(\"test_preprocess_v1.csv\", index = False)"
   ]
  },
  {
   "cell_type": "code",
   "execution_count": null,
   "metadata": {
    "collapsed": true
   },
   "outputs": [],
   "source": []
  }
 ],
 "metadata": {
  "anaconda-cloud": {},
  "kernelspec": {
   "display_name": "Python [default]",
   "language": "python",
   "name": "python3"
  },
  "language_info": {
   "codemirror_mode": {
    "name": "ipython",
    "version": 3
   },
   "file_extension": ".py",
   "mimetype": "text/x-python",
   "name": "python",
   "nbconvert_exporter": "python",
   "pygments_lexer": "ipython3",
   "version": "3.5.2"
  }
 },
 "nbformat": 4,
 "nbformat_minor": 1
}
